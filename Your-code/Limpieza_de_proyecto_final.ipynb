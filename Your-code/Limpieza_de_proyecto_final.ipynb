{
 "cells": [
  {
   "cell_type": "markdown",
   "id": "39c0bc2e",
   "metadata": {},
   "source": [
    "# Código de limpieza de la base de datos"
   ]
  },
  {
   "cell_type": "markdown",
   "id": "4720c2ac",
   "metadata": {},
   "source": [
    "## Importación de librerías.  "
   ]
  },
  {
   "cell_type": "code",
   "execution_count": 1,
   "id": "31bbd3a1",
   "metadata": {},
   "outputs": [],
   "source": [
    "import pandas as pd \n",
    "import numpy as np "
   ]
  },
  {
   "cell_type": "code",
   "execution_count": 2,
   "id": "e27575d2",
   "metadata": {},
   "outputs": [],
   "source": [
    "df = pd.read_spss('C:/Users/Juan Carlos/Desktop/apuntes/PAÍS-NACIONAL-ponderada_INE.sav')"
   ]
  },
  {
   "cell_type": "code",
   "execution_count": 3,
   "id": "572c1c08",
   "metadata": {
    "scrolled": true
   },
   "outputs": [
    {
     "data": {
      "text/html": [
       "<div>\n",
       "<style scoped>\n",
       "    .dataframe tbody tr th:only-of-type {\n",
       "        vertical-align: middle;\n",
       "    }\n",
       "\n",
       "    .dataframe tbody tr th {\n",
       "        vertical-align: top;\n",
       "    }\n",
       "\n",
       "    .dataframe thead th {\n",
       "        text-align: right;\n",
       "    }\n",
       "</style>\n",
       "<table border=\"1\" class=\"dataframe\">\n",
       "  <thead>\n",
       "    <tr style=\"text-align: right;\">\n",
       "      <th></th>\n",
       "      <th>fecha_inicio</th>\n",
       "      <th>folio</th>\n",
       "      <th>punto</th>\n",
       "      <th>circunscripcion</th>\n",
       "      <th>cve_ent</th>\n",
       "      <th>nom_ent</th>\n",
       "      <th>dto_fed</th>\n",
       "      <th>dto_loc</th>\n",
       "      <th>cve_mun</th>\n",
       "      <th>nom_mun</th>\n",
       "      <th>...</th>\n",
       "      <th>amai3</th>\n",
       "      <th>amai4</th>\n",
       "      <th>amai5</th>\n",
       "      <th>amai6</th>\n",
       "      <th>amai7</th>\n",
       "      <th>amai8</th>\n",
       "      <th>amaitot</th>\n",
       "      <th>amaifinal</th>\n",
       "      <th>fecha_termino</th>\n",
       "      <th>p_ponde</th>\n",
       "    </tr>\n",
       "  </thead>\n",
       "  <tbody>\n",
       "    <tr>\n",
       "      <th>0</th>\n",
       "      <td>2021-05-09 22:20:26</td>\n",
       "      <td>2.0</td>\n",
       "      <td>1.0</td>\n",
       "      <td>1.0</td>\n",
       "      <td>2.0</td>\n",
       "      <td>BAJA CALIFORNIA</td>\n",
       "      <td>3.0</td>\n",
       "      <td>16.0</td>\n",
       "      <td>1.0</td>\n",
       "      <td>ENSENADA</td>\n",
       "      <td>...</td>\n",
       "      <td>No tiene</td>\n",
       "      <td>0 a 5</td>\n",
       "      <td>Tierra o cemento</td>\n",
       "      <td>0</td>\n",
       "      <td>Si tiene</td>\n",
       "      <td>Secundaria Incompleta</td>\n",
       "      <td>58.0</td>\n",
       "      <td>D</td>\n",
       "      <td>2021-05-09 22:32:54</td>\n",
       "      <td>76341.336349</td>\n",
       "    </tr>\n",
       "    <tr>\n",
       "      <th>1</th>\n",
       "      <td>2021-05-10 14:41:36</td>\n",
       "      <td>21.0</td>\n",
       "      <td>3.0</td>\n",
       "      <td>1.0</td>\n",
       "      <td>2.0</td>\n",
       "      <td>BAJA CALIFORNIA</td>\n",
       "      <td>7.0</td>\n",
       "      <td>6.0</td>\n",
       "      <td>3.0</td>\n",
       "      <td>TECATE</td>\n",
       "      <td>...</td>\n",
       "      <td>Si tiene</td>\n",
       "      <td>0 a 5</td>\n",
       "      <td>Tierra o cemento</td>\n",
       "      <td>0</td>\n",
       "      <td>Si tiene</td>\n",
       "      <td>Secundaria Incompleta</td>\n",
       "      <td>68.0</td>\n",
       "      <td>D</td>\n",
       "      <td>2021-05-10 14:53:47</td>\n",
       "      <td>41392.479285</td>\n",
       "    </tr>\n",
       "    <tr>\n",
       "      <th>2</th>\n",
       "      <td>2021-05-10 14:56:19</td>\n",
       "      <td>22.0</td>\n",
       "      <td>3.0</td>\n",
       "      <td>1.0</td>\n",
       "      <td>2.0</td>\n",
       "      <td>BAJA CALIFORNIA</td>\n",
       "      <td>7.0</td>\n",
       "      <td>6.0</td>\n",
       "      <td>3.0</td>\n",
       "      <td>TECATE</td>\n",
       "      <td>...</td>\n",
       "      <td>Si tiene</td>\n",
       "      <td>0 a 5</td>\n",
       "      <td>Tierra o cemento</td>\n",
       "      <td>0</td>\n",
       "      <td>Si tiene</td>\n",
       "      <td>Preparatoria Completa</td>\n",
       "      <td>84.0</td>\n",
       "      <td>D+</td>\n",
       "      <td>2021-05-10 17:21:40</td>\n",
       "      <td>64665.849112</td>\n",
       "    </tr>\n",
       "    <tr>\n",
       "      <th>3</th>\n",
       "      <td>2021-05-10 17:58:26</td>\n",
       "      <td>30.0</td>\n",
       "      <td>3.0</td>\n",
       "      <td>1.0</td>\n",
       "      <td>2.0</td>\n",
       "      <td>BAJA CALIFORNIA</td>\n",
       "      <td>7.0</td>\n",
       "      <td>6.0</td>\n",
       "      <td>3.0</td>\n",
       "      <td>TECATE</td>\n",
       "      <td>...</td>\n",
       "      <td>No tiene</td>\n",
       "      <td>6 a 10</td>\n",
       "      <td>Tierra o cemento</td>\n",
       "      <td>1</td>\n",
       "      <td>Si tiene</td>\n",
       "      <td>Secundaria Completa</td>\n",
       "      <td>105.0</td>\n",
       "      <td>C-</td>\n",
       "      <td>2021-05-10 18:10:12</td>\n",
       "      <td>56838.384450</td>\n",
       "    </tr>\n",
       "    <tr>\n",
       "      <th>4</th>\n",
       "      <td>2021-05-09 19:31:50</td>\n",
       "      <td>54.0</td>\n",
       "      <td>6.0</td>\n",
       "      <td>1.0</td>\n",
       "      <td>2.0</td>\n",
       "      <td>BAJA CALIFORNIA</td>\n",
       "      <td>4.0</td>\n",
       "      <td>7.0</td>\n",
       "      <td>4.0</td>\n",
       "      <td>TIJUANA</td>\n",
       "      <td>...</td>\n",
       "      <td>No contesta</td>\n",
       "      <td>No contesta</td>\n",
       "      <td>No contesta</td>\n",
       "      <td>No contesta</td>\n",
       "      <td>No contesta</td>\n",
       "      <td>No contesta</td>\n",
       "      <td>0.0</td>\n",
       "      <td>No responde</td>\n",
       "      <td>2021-05-09 19:48:28</td>\n",
       "      <td>76341.336349</td>\n",
       "    </tr>\n",
       "  </tbody>\n",
       "</table>\n",
       "<p>5 rows × 93 columns</p>\n",
       "</div>"
      ],
      "text/plain": [
       "         fecha_inicio  folio  punto  circunscripcion  cve_ent  \\\n",
       "0 2021-05-09 22:20:26    2.0    1.0              1.0      2.0   \n",
       "1 2021-05-10 14:41:36   21.0    3.0              1.0      2.0   \n",
       "2 2021-05-10 14:56:19   22.0    3.0              1.0      2.0   \n",
       "3 2021-05-10 17:58:26   30.0    3.0              1.0      2.0   \n",
       "4 2021-05-09 19:31:50   54.0    6.0              1.0      2.0   \n",
       "\n",
       "           nom_ent  dto_fed  dto_loc  cve_mun   nom_mun  ...         amai3  \\\n",
       "0  BAJA CALIFORNIA      3.0     16.0      1.0  ENSENADA  ...      No tiene   \n",
       "1  BAJA CALIFORNIA      7.0      6.0      3.0    TECATE  ...      Si tiene   \n",
       "2  BAJA CALIFORNIA      7.0      6.0      3.0    TECATE  ...      Si tiene   \n",
       "3  BAJA CALIFORNIA      7.0      6.0      3.0    TECATE  ...      No tiene   \n",
       "4  BAJA CALIFORNIA      4.0      7.0      4.0   TIJUANA  ...   No contesta   \n",
       "\n",
       "          amai4             amai5         amai6         amai7  \\\n",
       "0         0 a 5  Tierra o cemento             0      Si tiene   \n",
       "1         0 a 5  Tierra o cemento             0      Si tiene   \n",
       "2         0 a 5  Tierra o cemento             0      Si tiene   \n",
       "3        6 a 10  Tierra o cemento             1      Si tiene   \n",
       "4   No contesta       No contesta   No contesta   No contesta   \n",
       "\n",
       "                   amai8 amaitot    amaifinal       fecha_termino  \\\n",
       "0  Secundaria Incompleta    58.0            D 2021-05-09 22:32:54   \n",
       "1  Secundaria Incompleta    68.0            D 2021-05-10 14:53:47   \n",
       "2  Preparatoria Completa    84.0           D+ 2021-05-10 17:21:40   \n",
       "3    Secundaria Completa   105.0           C- 2021-05-10 18:10:12   \n",
       "4            No contesta     0.0  No responde 2021-05-09 19:48:28   \n",
       "\n",
       "        p_ponde  \n",
       "0  76341.336349  \n",
       "1  41392.479285  \n",
       "2  64665.849112  \n",
       "3  56838.384450  \n",
       "4  76341.336349  \n",
       "\n",
       "[5 rows x 93 columns]"
      ]
     },
     "execution_count": 3,
     "metadata": {},
     "output_type": "execute_result"
    }
   ],
   "source": [
    "df.head()"
   ]
  },
  {
   "cell_type": "code",
   "execution_count": 4,
   "id": "0d04bf72",
   "metadata": {
    "scrolled": true
   },
   "outputs": [
    {
     "name": "stdout",
     "output_type": "stream",
     "text": [
      "<class 'pandas.core.frame.DataFrame'>\n",
      "RangeIndex: 1980 entries, 0 to 1979\n",
      "Data columns (total 93 columns):\n",
      " #   Column           Non-Null Count  Dtype         \n",
      "---  ------           --------------  -----         \n",
      " 0   fecha_inicio     1980 non-null   datetime64[ns]\n",
      " 1   folio            1980 non-null   float64       \n",
      " 2   punto            1980 non-null   float64       \n",
      " 3   circunscripcion  1980 non-null   float64       \n",
      " 4   cve_ent          1980 non-null   float64       \n",
      " 5   nom_ent          1980 non-null   object        \n",
      " 6   dto_fed          1980 non-null   float64       \n",
      " 7   dto_loc          1980 non-null   float64       \n",
      " 8   cve_mun          1980 non-null   float64       \n",
      " 9   nom_mun          1980 non-null   object        \n",
      " 10  seccion          1980 non-null   float64       \n",
      " 11  a                1980 non-null   category      \n",
      " 12  b                1980 non-null   float64       \n",
      " 13  edad_recod       1980 non-null   category      \n",
      " 14  c                1980 non-null   category      \n",
      " 15  d                1980 non-null   category      \n",
      " 16  e                1980 non-null   category      \n",
      " 17  p1               0 non-null      float64       \n",
      " 18  p1_1             1980 non-null   category      \n",
      " 19  p1_2             1980 non-null   category      \n",
      " 20  p2               1980 non-null   category      \n",
      " 21  p2_o             1980 non-null   object        \n",
      " 22  p3               0 non-null      float64       \n",
      " 23  p3_1             1980 non-null   category      \n",
      " 24  p3_2             1980 non-null   category      \n",
      " 25  p3_3             1980 non-null   category      \n",
      " 26  p3_4             1980 non-null   category      \n",
      " 27  p3_5             1980 non-null   category      \n",
      " 28  p3_6             1980 non-null   category      \n",
      " 29  p3_7             1980 non-null   category      \n",
      " 30  p3_8             1980 non-null   category      \n",
      " 31  p3_9             1980 non-null   category      \n",
      " 32  p3_10            1980 non-null   category      \n",
      " 33  p4               1980 non-null   category      \n",
      " 34  p4_o             1980 non-null   object        \n",
      " 35  p5               0 non-null      float64       \n",
      " 36  p5_1             1980 non-null   category      \n",
      " 37  p5_2             1980 non-null   category      \n",
      " 38  p5_3             1980 non-null   category      \n",
      " 39  p5_4             1980 non-null   category      \n",
      " 40  p5_5             1980 non-null   category      \n",
      " 41  p5_6             1980 non-null   category      \n",
      " 42  p5_7             1980 non-null   category      \n",
      " 43  p5_8             1980 non-null   category      \n",
      " 44  p5_9             1980 non-null   category      \n",
      " 45  p5_10            1980 non-null   category      \n",
      " 46  p6               1980 non-null   category      \n",
      " 47  p6_o             1980 non-null   object        \n",
      " 48  p7               1980 non-null   category      \n",
      " 49  p7_o             1980 non-null   object        \n",
      " 50  p8               1980 non-null   category      \n",
      " 51  p8_o             1980 non-null   object        \n",
      " 52  p9               1980 non-null   category      \n",
      " 53  p10              0 non-null      float64       \n",
      " 54  p10_1            1980 non-null   category      \n",
      " 55  p10_2            1980 non-null   category      \n",
      " 56  p10_3            1980 non-null   category      \n",
      " 57  p11              0 non-null      float64       \n",
      " 58  p11_1            1980 non-null   category      \n",
      " 59  p11_2            1980 non-null   category      \n",
      " 60  p11_3            1980 non-null   category      \n",
      " 61  p11_4            1980 non-null   category      \n",
      " 62  p11_5            1980 non-null   category      \n",
      " 63  p11_6            1980 non-null   category      \n",
      " 64  p11_7            1980 non-null   category      \n",
      " 65  p11_8            1980 non-null   category      \n",
      " 66  p11_9            1980 non-null   category      \n",
      " 67  p11_10           1980 non-null   category      \n",
      " 68  p12              1980 non-null   category      \n",
      " 69  p13              0 non-null      float64       \n",
      " 70  p13_1            1980 non-null   category      \n",
      " 71  p13_2            1980 non-null   category      \n",
      " 72  p13_3            1980 non-null   category      \n",
      " 73  p13_4            1980 non-null   category      \n",
      " 74  p13_5            1980 non-null   category      \n",
      " 75  p14              1980 non-null   category      \n",
      " 76  p15              1980 non-null   category      \n",
      " 77  p16              1980 non-null   category      \n",
      " 78  p16_o            1980 non-null   object        \n",
      " 79  p17              1980 non-null   category      \n",
      " 80  p18              1980 non-null   category      \n",
      " 81  amai1            1980 non-null   category      \n",
      " 82  amai2            1980 non-null   category      \n",
      " 83  amai3            1980 non-null   category      \n",
      " 84  amai4            1980 non-null   category      \n",
      " 85  amai5            1980 non-null   category      \n",
      " 86  amai6            1980 non-null   category      \n",
      " 87  amai7            1980 non-null   category      \n",
      " 88  amai8            1980 non-null   category      \n",
      " 89  amaitot          1980 non-null   float64       \n",
      " 90  amaifinal        1980 non-null   category      \n",
      " 91  fecha_termino    1980 non-null   datetime64[ns]\n",
      " 92  p_ponde          1980 non-null   float64       \n",
      "dtypes: category(66), datetime64[ns](2), float64(17), object(8)\n",
      "memory usage: 560.8+ KB\n"
     ]
    }
   ],
   "source": [
    "df.info()"
   ]
  },
  {
   "cell_type": "code",
   "execution_count": 5,
   "id": "c236ef02",
   "metadata": {
    "scrolled": false
   },
   "outputs": [
    {
     "data": {
      "text/plain": [
       "Index(['fecha_inicio', 'folio', 'punto', 'circunscripcion', 'cve_ent',\n",
       "       'nom_ent', 'dto_fed', 'dto_loc', 'cve_mun', 'nom_mun', 'seccion', 'a',\n",
       "       'b', 'edad_recod', 'c', 'd', 'e', 'p1', 'p1_1', 'p1_2', 'p2', 'p2_o',\n",
       "       'p3', 'p3_1', 'p3_2', 'p3_3', 'p3_4', 'p3_5', 'p3_6', 'p3_7', 'p3_8',\n",
       "       'p3_9', 'p3_10', 'p4', 'p4_o', 'p5', 'p5_1', 'p5_2', 'p5_3', 'p5_4',\n",
       "       'p5_5', 'p5_6', 'p5_7', 'p5_8', 'p5_9', 'p5_10', 'p6', 'p6_o', 'p7',\n",
       "       'p7_o', 'p8', 'p8_o', 'p9', 'p10', 'p10_1', 'p10_2', 'p10_3', 'p11',\n",
       "       'p11_1', 'p11_2', 'p11_3', 'p11_4', 'p11_5', 'p11_6', 'p11_7', 'p11_8',\n",
       "       'p11_9', 'p11_10', 'p12', 'p13', 'p13_1', 'p13_2', 'p13_3', 'p13_4',\n",
       "       'p13_5', 'p14', 'p15', 'p16', 'p16_o', 'p17', 'p18', 'amai1', 'amai2',\n",
       "       'amai3', 'amai4', 'amai5', 'amai6', 'amai7', 'amai8', 'amaitot',\n",
       "       'amaifinal', 'fecha_termino', 'p_ponde'],\n",
       "      dtype='object')"
      ]
     },
     "execution_count": 5,
     "metadata": {},
     "output_type": "execute_result"
    }
   ],
   "source": [
    "df.columns"
   ]
  },
  {
   "cell_type": "markdown",
   "id": "aed02c5d",
   "metadata": {},
   "source": [
    "La base de datos original está totalmente codificada. Se ha hecho una revisión de la documentación que acompañaba a la base de datos para saber a qué se refiere cada columna. Posteriormente, se ha decidido cambiar los nombres de las columans por unos que sean comprensibles para el usuario. "
   ]
  },
  {
   "cell_type": "markdown",
   "id": "fb586aef",
   "metadata": {},
   "source": [
    "### 1 ) Se cambia el nombre de la pregunta correspondiente a la pregunta número uno y se codifica."
   ]
  },
  {
   "cell_type": "code",
   "execution_count": 6,
   "id": "6eb62138",
   "metadata": {},
   "outputs": [],
   "source": [
    "df.rename(columns={'p1': 'Aprobación_institucional'}, inplace=True)\n",
    "df.rename(columns={'p1_1': 'Aprobación_presidencial'}, inplace=True)\n",
    "df.rename(columns={'p1_2': 'Aprobación_gobernador'}, inplace=True)"
   ]
  },
  {
   "cell_type": "code",
   "execution_count": 7,
   "id": "56a93193",
   "metadata": {},
   "outputs": [
    {
     "data": {
      "text/plain": [
       "['Aprueba mucho', 'Aprueba algo', 'Desaprueba algo', 'Desaprueba mucho', ' Ns/nc']\n",
       "Categories (5, object): [' Ns/nc', 'Aprueba algo', 'Aprueba mucho', 'Desaprueba algo', 'Desaprueba mucho']"
      ]
     },
     "execution_count": 7,
     "metadata": {},
     "output_type": "execute_result"
    }
   ],
   "source": [
    "df['Aprobación_presidencial'].unique()"
   ]
  },
  {
   "cell_type": "code",
   "execution_count": 8,
   "id": "fd8efee2",
   "metadata": {},
   "outputs": [],
   "source": [
    "def encoded_p1(var: int)-> int :\n",
    "    \"\"\"\n",
    "    Recives a value and ecaluete it to a number.\n",
    "    Return\n",
    "    INT\n",
    "    \"\"\"\n",
    "    if var == 'Aprueba mucho':\n",
    "        return 4\n",
    "    if var == 'Aprueba algo':\n",
    "        return 3\n",
    "    if var == 'Desaprueba algo':\n",
    "        return 2\n",
    "    if var == 'Desaprueba mucho':\n",
    "        return 1\n",
    "    if var == ' Ns/nc':\n",
    "        return 0"
   ]
  },
  {
   "cell_type": "code",
   "execution_count": 9,
   "id": "6de7fdb8",
   "metadata": {},
   "outputs": [],
   "source": [
    "df.insert(19, 'Aprovación_presidencial_codificado', df['Aprobación_presidencial'].apply(encoded_p1))\n",
    "df.insert(21, 'Aprovación_gobernador_codificado', df['Aprobación_gobernador'].apply(encoded_p1))"
   ]
  },
  {
   "cell_type": "markdown",
   "id": "c621f256",
   "metadata": {},
   "source": [
    "### 2 )Se trata la prgunta dos : ¿Por quién votó en las elecciones pasadas?. Se cambian nombres de columnas y se codifica"
   ]
  },
  {
   "cell_type": "code",
   "execution_count": 11,
   "id": "d956f43b",
   "metadata": {},
   "outputs": [
    {
     "data": {
      "text/plain": [
       "['Partido Acción Nacional (PAN )', 'No votó', 'Movimiento Regeneración Nacional (MORENA)', 'No responde', 'No sabe', ..., 'Anuló/Votó en blanco', 'Movimiento Ciudadano (MC)', 'Partido Verde Ecologista de México (PVEM)', 'Otro, ¿cuál?', 'Partido Encuentro Social (PES)']\n",
       "Length: 15\n",
       "Categories (15, object): ['Anuló/Votó en blanco', 'El Bronco como independiente', 'Movimiento Ciudadano (MC)', 'Movimiento Regeneración Nacional (MORENA)', ..., 'Partido Revolucionario Institucional (PRI)', 'Partido Verde Ecologista de México (PVEM)', 'Partido de la Revolución Democrática (PRD)', 'Partido del Trabajo (PT)']"
      ]
     },
     "execution_count": 11,
     "metadata": {},
     "output_type": "execute_result"
    }
   ],
   "source": [
    "df['p2'].unique()"
   ]
  },
  {
   "cell_type": "code",
   "execution_count": 12,
   "id": "e0b2dd0c",
   "metadata": {},
   "outputs": [],
   "source": [
    "df.rename(columns={'p2': 'Voto_en_2018'}, inplace=True)\n",
    "df.rename(columns={'p2_o': 'Otra_opción_2018'}, inplace=True)"
   ]
  },
  {
   "cell_type": "code",
   "execution_count": 13,
   "id": "00b7b8ce",
   "metadata": {},
   "outputs": [
    {
     "data": {
      "text/plain": [
       "['Partido Acción Nacional (PAN )',\n",
       " 'No votó',\n",
       " 'Movimiento Regeneración Nacional (MORENA)',\n",
       " 'No responde',\n",
       " 'No sabe',\n",
       " 'Partido de la Revolución Democrática (PRD)',\n",
       " 'El Bronco como independiente',\n",
       " 'Partido Revolucionario Institucional (PRI)',\n",
       " 'Partido del Trabajo (PT)',\n",
       " 'Nueva Alianza (PANAL)',\n",
       " 'Anuló/Votó en blanco',\n",
       " 'Movimiento Ciudadano (MC)',\n",
       " 'Partido Verde Ecologista de México (PVEM)',\n",
       " 'Otro, ¿cuál?',\n",
       " 'Partido Encuentro Social (PES)']"
      ]
     },
     "execution_count": 13,
     "metadata": {},
     "output_type": "execute_result"
    }
   ],
   "source": [
    "list(df['Voto_en_2018'].unique())"
   ]
  },
  {
   "cell_type": "code",
   "execution_count": 14,
   "id": "2d978832",
   "metadata": {},
   "outputs": [],
   "source": [
    "def encoded_p2(var: int)-> int :\n",
    "    \"\"\"\n",
    "    Recives a value and ecaluete it to a number.\n",
    "    Return\n",
    "    INT\n",
    "    \"\"\"\n",
    "    if var == 'Partido Acción Nacional (PAN )':\n",
    "        return 1\n",
    "    if var == 'Partido Revolucionario Institucional (PRI)':\n",
    "        return 2\n",
    "    if var == 'Partido de la Revolución Democrática (PRD)':\n",
    "        return 3\n",
    "    if var =='Movimiento Ciudadano (MC)' :\n",
    "        return 4\n",
    "    if var == 'Movimiento Regeneración Nacional (MORENA)':\n",
    "        return 5\n",
    "    if var == 'Partido Verde Ecologista de México (PVEM)':\n",
    "        return 6\n",
    "    if var =='Partido del Trabajo (PT)':\n",
    "        return 7\n",
    "    if var == 'Nueva Alianza (PANAL)':\n",
    "        return 8\n",
    "    if var =='Partido Encuentro Social (PES)' :\n",
    "        return 9\n",
    "    if var == 'Partido Humanista':\n",
    "        return 10\n",
    "    if var == 'El Bronco como independiente':\n",
    "        return 11\n",
    "    if var == 'Otro, ¿cuál?': \n",
    "        return 12\n",
    "    if var == 'Anuló/Votó en blanco': \n",
    "        return 95\n",
    "    if var == 'No votó':\n",
    "        return 97\n",
    "    if var ==  'No sabe':\n",
    "        return 98\n",
    "    if var == 'No responde': \n",
    "        return 99\n",
    "    "
   ]
  },
  {
   "cell_type": "code",
   "execution_count": 15,
   "id": "f7c357b0",
   "metadata": {},
   "outputs": [],
   "source": [
    "df.insert(23, 'Voto_en_2018_codificado', df['Voto_en_2018'].apply(encoded_p2))"
   ]
  },
  {
   "cell_type": "markdown",
   "id": "6c96a5b0",
   "metadata": {},
   "source": [
    "### 3)  Se trata y codifica la pregunta 3: ¿Cuál es su opinión de los siguientes partidos políticos?"
   ]
  },
  {
   "cell_type": "code",
   "execution_count": 17,
   "id": "93f21f17",
   "metadata": {},
   "outputs": [],
   "source": [
    "df.rename(columns={'p3': 'Opinión_partidos'}, inplace=True)\n",
    "df.rename(columns={'p3_1': 'PAN_Percepción'}, inplace=True)\n",
    "df.rename(columns={'p3_2': 'PRI_Percepción'}, inplace=True)\n",
    "df.rename(columns={'p3_3': 'PRD_Percepción'}, inplace=True)\n",
    "df.rename(columns={'p3_4': 'PV_Percepción'}, inplace=True)\n",
    "df.rename(columns={'p3_5': 'PT_Percepción'}, inplace=True)\n",
    "df.rename(columns={'p3_6': 'MC_Percepción'}, inplace=True)\n",
    "df.rename(columns={'p3_7': 'MORENA_Percepción'}, inplace=True)\n",
    "df.rename(columns={'p3_8': 'PES_Percepción'}, inplace=True)\n",
    "df.rename(columns={'p3_9': 'RSP_Percepción'}, inplace=True)\n",
    "df.rename(columns={'p3_10': 'FxM_Percepción'}, inplace=True)"
   ]
  },
  {
   "cell_type": "code",
   "execution_count": 18,
   "id": "d2891be6",
   "metadata": {},
   "outputs": [
    {
     "data": {
      "text/plain": [
       "0       Muy buena\n",
       "1           Buena\n",
       "2           Buena\n",
       "3           Buena\n",
       "4            Mala\n",
       "          ...    \n",
       "1975         Mala\n",
       "1976    Muy buena\n",
       "1977         Mala\n",
       "1978         Mala\n",
       "1979        Buena\n",
       "Name: PAN_Percepción, Length: 1980, dtype: category\n",
       "Categories (5, object): [' Ns/nc', 'Buena', 'Mala', 'Muy buena', 'Muy mala']"
      ]
     },
     "execution_count": 18,
     "metadata": {},
     "output_type": "execute_result"
    }
   ],
   "source": [
    "df['PAN_Percepción']"
   ]
  },
  {
   "cell_type": "code",
   "execution_count": 19,
   "id": "d71fc96f",
   "metadata": {},
   "outputs": [],
   "source": [
    "def encoded_p(var: int)-> int :\n",
    "    \"\"\"\n",
    "    Recives a value and ecaluete it to a number.\n",
    "    Return\n",
    "    INT\n",
    "    \"\"\"\n",
    "    if var == 'Muy buena':\n",
    "        return 4\n",
    "    if var == 'Buena':\n",
    "        return 3\n",
    "    if var == 'Mala':\n",
    "        return 2\n",
    "    if var == 'Muy mala':\n",
    "        return 1\n",
    "    if var == ' Ns/nc':\n",
    "        return 0"
   ]
  },
  {
   "cell_type": "code",
   "execution_count": 20,
   "id": "a011ae45",
   "metadata": {},
   "outputs": [],
   "source": [
    "df.insert(27, 'PAN_Percepción_codificado', df['PAN_Percepción'].apply(encoded_p))\n",
    "df.insert(29, 'PRI_Percepción_codificado', df['PRI_Percepción'].apply(encoded_p))\n",
    "df.insert(31, 'PRD_Percepción_codificado', df['PRD_Percepción'].apply(encoded_p))\n",
    "df.insert(33, 'PV_Percepción_codificado', df['PV_Percepción'].apply(encoded_p))\n",
    "df.insert(35, 'PT_Percepción_codificado', df['PT_Percepción'].apply(encoded_p))\n",
    "df.insert(37, 'MC_Percepción_codificado', df['MC_Percepción'].apply(encoded_p))\n",
    "df.insert(39, 'MORENA_Percepción_codificado', df['MORENA_Percepción'].apply(encoded_p))\n",
    "df.insert(41, 'PES_Percepción_codificado', df['PES_Percepción'].apply(encoded_p))\n",
    "df.insert(43, 'RSP_Percepción_codificado', df['RSP_Percepción'].apply(encoded_p))\n",
    "df.insert(45, 'FxM_Percepción_codificado', df['FxM_Percepción'].apply(encoded_p))\n"
   ]
  },
  {
   "cell_type": "markdown",
   "id": "5af8fcf6",
   "metadata": {},
   "source": [
    "## 4) Tratamiento de pregunta 4 ¿Por qué partido votaría si hoy fueran las eleccione spara diputados federales?"
   ]
  },
  {
   "cell_type": "code",
   "execution_count": 22,
   "id": "c65a2996",
   "metadata": {},
   "outputs": [],
   "source": [
    "df.rename(columns={'p4': 'Intención_del_voto_diputados'}, inplace=True)\n",
    "df.rename(columns={'p4_o': 'Intención_diputados_otra'}, inplace=True)"
   ]
  },
  {
   "cell_type": "code",
   "execution_count": 23,
   "id": "8a36082a",
   "metadata": {},
   "outputs": [],
   "source": [
    "def encoded_p4(var: int)-> int :\n",
    "    \"\"\"\n",
    "    Recives a value and ecaluete it to a number.\n",
    "    Return\n",
    "    INT\n",
    "    \"\"\"\n",
    "    if var == 'Partido Acción Nacional (PAN)':\n",
    "        return 1\n",
    "    if var == 'Partido Revolucionario Institucional (PRI)':\n",
    "        return 2\n",
    "    if var == 'Partido de la Revolución Democrática (PRD)':\n",
    "        return 3\n",
    "    if var == 'Partido del Trabajo (PT)':\n",
    "        return 4\n",
    "    if var == 'Partido Verde Ecologista de México (PVEM)':\n",
    "        return 5\n",
    "    if var == 'Movimiento Ciudadano (MC)':\n",
    "        return 6\n",
    "    if var == 'MORENA (Movimiento de Regeneración Nacional)':\n",
    "        return 7\n",
    "    if var == 'Partido Encuentro Solidario (PES)':\n",
    "        return 8\n",
    "    if var == 'Redes Sociales Progresistas (RSP)':\n",
    "        return 9\n",
    "    if var == 'Fuerza por México': \n",
    "        return 10\n",
    "    if var == 'Otro':\n",
    "        return 11\n",
    "    if var == 'Ninguno/Anularía mi voto': \n",
    "        return 95\n",
    "    if var == 'No votaría':\n",
    "        return 97\n",
    "    if var == 'No sabe': \n",
    "        return 98\n",
    "    if var == 'No responde':\n",
    "        return 99"
   ]
  },
  {
   "cell_type": "code",
   "execution_count": 24,
   "id": "57616a7a",
   "metadata": {},
   "outputs": [],
   "source": [
    "df.insert(47, 'Intención_Diputados_codificado', df['Intención_del_voto_diputados'].apply(encoded_p4))"
   ]
  },
  {
   "cell_type": "markdown",
   "id": "49ee02a2",
   "metadata": {},
   "source": [
    "## 5 ) Tratamiento pregunta 5: ¿Usted votaría por alguno de los siguientes partidos?"
   ]
  },
  {
   "cell_type": "code",
   "execution_count": 27,
   "id": "c998bd59",
   "metadata": {
    "scrolled": true
   },
   "outputs": [],
   "source": [
    "df.rename(columns = {'p5': 'Preferencia_por_partido', 'p5_1':'Preferencia_PAN', 'p5_2': 'Preferencia_PRI', \n",
    "                    'p5_3': 'Preferencia_PRD', 'p5_4':'Preferencia_PV', 'p5_5':'Preferencia_PT', 'p5_6': 'Preferencia_MC',\n",
    "                     'p5_7': 'Preferencia_MORENA', 'p5_8': 'Preferencia_PES', 'p5_9': 'Preferencia_RSP', \n",
    "                    'p5_10':'Preferencia_FxM'}, inplace = True)"
   ]
  },
  {
   "cell_type": "code",
   "execution_count": 28,
   "id": "199b834e",
   "metadata": {},
   "outputs": [
    {
     "data": {
      "text/plain": [
       "0      NaN\n",
       "1      NaN\n",
       "2      NaN\n",
       "3      NaN\n",
       "4      NaN\n",
       "        ..\n",
       "1975   NaN\n",
       "1976   NaN\n",
       "1977   NaN\n",
       "1978   NaN\n",
       "1979   NaN\n",
       "Name: Preferencia_por_partido, Length: 1980, dtype: float64"
      ]
     },
     "execution_count": 28,
     "metadata": {},
     "output_type": "execute_result"
    }
   ],
   "source": [
    "df['Preferencia_por_partido']"
   ]
  },
  {
   "cell_type": "code",
   "execution_count": 29,
   "id": "ada97f71",
   "metadata": {},
   "outputs": [
    {
     "data": {
      "text/plain": [
       "['Definitivamente si votaría', 'Posiblemente sí votaría', 'Definitivamente no votaría', 'Ns/nc', 'Posiblemente no votaría']\n",
       "Categories (5, object): ['Definitivamente no votaría', 'Definitivamente si votaría', 'Ns/nc', 'Posiblemente no votaría', 'Posiblemente sí votaría']"
      ]
     },
     "execution_count": 29,
     "metadata": {},
     "output_type": "execute_result"
    }
   ],
   "source": [
    "df['Preferencia_PAN'].unique()"
   ]
  },
  {
   "cell_type": "code",
   "execution_count": 30,
   "id": "9e64e526",
   "metadata": {},
   "outputs": [],
   "source": [
    "def p5_encoded(var: int)-> int:\n",
    "    if var == 'Definitivamente si votaría':\n",
    "        return 4\n",
    "    if var == 'Posiblemente sí votaría':\n",
    "        return 3\n",
    "    if var == 'Posiblemente no votaría':\n",
    "        return 2\n",
    "    if var == 'Definitivamente no votaría':\n",
    "        return 1\n",
    "    if var == 'Ns/nc':\n",
    "        return 0"
   ]
  },
  {
   "cell_type": "code",
   "execution_count": 31,
   "id": "ee260cdb",
   "metadata": {},
   "outputs": [],
   "source": [
    "df.insert(50, 'Preferencia_por_partido_codificado', df['Preferencia_por_partido'].apply(p5_encoded))\n",
    "df.insert(52, 'Preferencia_PAN_codificado', df['Preferencia_PAN'].apply(p5_encoded))\n",
    "df.insert(54, 'Preferencia_PRI_codificado', df['Preferencia_PRI'].apply(p5_encoded))\n",
    "df.insert(56, 'Preferencia_PRD_codificado', df['Preferencia_PRD'].apply(p5_encoded))\n",
    "df.insert(58, 'Preferencia_PV_codificado', df['Preferencia_PV'].apply(p5_encoded))\n",
    "df.insert(60, 'Preferencia_PT_codificado', df['Preferencia_PT'].apply(p5_encoded))\n",
    "df.insert(62, 'Preferencia_MC_codificado', df['Preferencia_MC'].apply(p5_encoded))\n",
    "df.insert(64, 'Preferencia_MORENA_codificado', df['Preferencia_MORENA'].apply(p5_encoded))\n",
    "df.insert(66, 'Preferencia_PES_codificado', df['Preferencia_PES'].apply(p5_encoded))\n",
    "df.insert(68, 'Preferencia_RSP_codificado', df['Preferencia_RSP'].apply(p5_encoded))\n",
    "df.insert(70, 'Preferencia_FxM_codificado', df['Preferencia_FxM'].apply(p5_encoded))"
   ]
  },
  {
   "cell_type": "markdown",
   "id": "a59b0173",
   "metadata": {},
   "source": [
    "## 6) Tratamiento pregunta 6: ¿Por qué partido no votaría?"
   ]
  },
  {
   "cell_type": "code",
   "execution_count": 34,
   "id": "0b23990a",
   "metadata": {
    "scrolled": true
   },
   "outputs": [],
   "source": [
    "df.rename(columns= {'p6': 'Partido_no_votaría'}, inplace = True)"
   ]
  },
  {
   "cell_type": "code",
   "execution_count": 35,
   "id": "3c829917",
   "metadata": {},
   "outputs": [],
   "source": [
    "def encoded_p6(var:int)->int:\n",
    "    if var== 'Partido Acción Nacional (PAN)':\n",
    "        return 1\n",
    "    if var == 'Partido Revolucionario Institucional (PRI)':\n",
    "        return 2\n",
    "    if var == 'Partido de la Revolución Democrática (PRD)': \n",
    "        return 3\n",
    "    if var == 'Partido del Trabajo (PT)': \n",
    "        return 4\n",
    "    if var == 'Partido Verde Ecologista de México (PVEM)':\n",
    "        return 5\n",
    "    if var ==  'Movimiento Ciudadano (MC)':\n",
    "        return 6\n",
    "    if var == 'MORENA (Movimiento de Regeneración Nacional)':\n",
    "        return 7\n",
    "    if var == 'Partido Encuentro Solidario (PES)': \n",
    "        return 8\n",
    "    if var ==  'Redes Sociales Progresistas (RSP)':\n",
    "        return 9\n",
    "    if var == 'Fuerza por México':\n",
    "        return 10\n",
    "    if var == 'Otro, ¿cuál?':\n",
    "        return 11\n",
    "    if var == 'No sabe': \n",
    "        return 98\n",
    "    if var == 'No responde':\n",
    "        return 99"
   ]
  },
  {
   "cell_type": "code",
   "execution_count": 36,
   "id": "816c48c6",
   "metadata": {},
   "outputs": [],
   "source": [
    "df.insert(72, 'Partido_no_votaría_codificado', df['Partido_no_votaría'].apply(encoded_p6))"
   ]
  },
  {
   "cell_type": "code",
   "execution_count": 38,
   "id": "d88da7e1",
   "metadata": {
    "scrolled": true
   },
   "outputs": [
    {
     "data": {
      "text/plain": [
       "array(['', 'los nuevos', 'pri', 'por todos', 'prian', 'independiente',\n",
       "       'los nievos', 'pri pan prd', 'por ninguno', 'los pocos conocidos',\n",
       "       'partidos nuevos', 'ylos q no conozco', 'nueva alianza'],\n",
       "      dtype=object)"
      ]
     },
     "execution_count": 38,
     "metadata": {},
     "output_type": "execute_result"
    }
   ],
   "source": [
    "df['p6_o'].unique()"
   ]
  },
  {
   "cell_type": "code",
   "execution_count": 39,
   "id": "2e8c0780",
   "metadata": {},
   "outputs": [],
   "source": [
    "df.rename(columns={'p6_o':'No_votaría_otros'}, inplace= True)"
   ]
  },
  {
   "cell_type": "code",
   "execution_count": 40,
   "id": "fb335566",
   "metadata": {},
   "outputs": [],
   "source": [
    "def encoded_p6_o(var:int)->int:\n",
    "    if var == 'los nuevos': \n",
    "        return 1\n",
    "    if var == 'pri': \n",
    "        return 2\n",
    "    if var == 'por todos': \n",
    "        return 3\n",
    "    if var == 'prian':\n",
    "        return 4\n",
    "    if var == 'independiente':\n",
    "        return 5\n",
    "    if var == 'los nievos':\n",
    "        return 6\n",
    "    if var == 'pri pan prd':\n",
    "        return 7\n",
    "    if var == 'por ninguno':\n",
    "        return 8\n",
    "    if var == 'los pocos conocidos':\n",
    "        return 9\n",
    "    if var ==  'partidos nuevos':\n",
    "        return 10\n",
    "    if var == 'ylos q no conozco':\n",
    "        return 11\n",
    "    if var == 'nueva alianza':\n",
    "        return 12\n",
    "    "
   ]
  },
  {
   "cell_type": "code",
   "execution_count": 41,
   "id": "a755627c",
   "metadata": {},
   "outputs": [],
   "source": [
    "df.insert(74, 'No_votaría_otros_codificado', df['No_votaría_otros'].apply(encoded_p6_o))"
   ]
  },
  {
   "cell_type": "markdown",
   "id": "13caa92b",
   "metadata": {},
   "source": [
    "## 7) Tratamiento pregunta 7: ¿Con qué partido se identifica más?"
   ]
  },
  {
   "cell_type": "code",
   "execution_count": 43,
   "id": "4f035a0a",
   "metadata": {},
   "outputs": [
    {
     "data": {
      "text/plain": [
       "array(['', 'el que le d mÃ¡s dinero', 'hagamos', 'pri pan prd',\n",
       "       'nueva alianza', 'alianza'], dtype=object)"
      ]
     },
     "execution_count": 43,
     "metadata": {},
     "output_type": "execute_result"
    }
   ],
   "source": [
    "df['p7_o'].unique()"
   ]
  },
  {
   "cell_type": "code",
   "execution_count": 44,
   "id": "16a8ecaf",
   "metadata": {},
   "outputs": [],
   "source": [
    "df.rename(columns={'p7': 'Identidad_partidista'}, inplace= True)"
   ]
  },
  {
   "cell_type": "code",
   "execution_count": 45,
   "id": "09faa83a",
   "metadata": {},
   "outputs": [
    {
     "data": {
      "text/plain": [
       "['Muy panista',\n",
       " 'Algo panista',\n",
       " 'Muy MORENA',\n",
       " 'Ninguno o independiente',\n",
       " 'No responde',\n",
       " 'Muy priista',\n",
       " 'Algo priista',\n",
       " 'Algo Verde Ecologista',\n",
       " 'Algo Movimiento Ciudadano',\n",
       " 'Muy Verde Ecologista',\n",
       " 'Muy Movimiento Ciudadano',\n",
       " 'Muy Redes Sociales Progresistas',\n",
       " 'Algo MORENA',\n",
       " 'Algo Fuerza por México',\n",
       " 'Algo Partido Encuentro Solidario',\n",
       " 'Muy perredista',\n",
       " 'Algo perredista',\n",
       " 'Algo PT-ista',\n",
       " 'Muy PT-ista',\n",
       " 'Muy Fuerza por México',\n",
       " 'Muy Partido Encuentro Solidario',\n",
       " 'Otro, ¿cuál?',\n",
       " 'Algo Redes Sociales Progresistas']"
      ]
     },
     "execution_count": 45,
     "metadata": {},
     "output_type": "execute_result"
    }
   ],
   "source": [
    "list(df['Identidad_partidista'].unique())"
   ]
  },
  {
   "cell_type": "code",
   "execution_count": 46,
   "id": "b2012760",
   "metadata": {},
   "outputs": [],
   "source": [
    "def encoded_p7 (var:int)->int:\n",
    "    if var == 'Muy panista':\n",
    "        return 1\n",
    "    if var == 'Algo panista': \n",
    "        return 2\n",
    "    if var == 'Muy priista':\n",
    "        return 3\n",
    "    if var == 'Algo priista': \n",
    "        return 4\n",
    "    if var == 'Muy perredista':\n",
    "        return 5\n",
    "    if var == 'Algo perredista':\n",
    "        return 6 \n",
    "    if var == 'Muy Movimiento Ciudadano': \n",
    "        return 7\n",
    "    if var == 'Algo Movimiento Ciudadano': \n",
    "        return 8 \n",
    "    if var == 'Muy MORENA': \n",
    "        return 9\n",
    "    if var == 'Algo MORENA':\n",
    "        return 10\n",
    "    if var == 'Muy Verde Ecologista': \n",
    "        return 11\n",
    "    if var == 'Algo Verde Ecologista': \n",
    "        return 12\n",
    "    if var == 'Muy PT-ista': \n",
    "        return 13\n",
    "    if var == 'Algo PT-ista': \n",
    "        return 14\n",
    "    if var == 'Muy Partido Encuentro Solidario': \n",
    "        return 15\n",
    "    if var == 'Algo Partido Encuentro Solidario': \n",
    "        return 16\n",
    "    if var ==  'Muy Redes Sociales Progresistas': \n",
    "        return 17\n",
    "    if var == 'Algo Redes Sociales Progresistas': \n",
    "        return 18\n",
    "    if var == 'Muy Fuerza por México': \n",
    "        return 19\n",
    "    if var == 'Algo Fuerza por México': \n",
    "        return 20\n",
    "    if var == 'Ninguno o independiente': \n",
    "        return 95\n",
    "    if var == 'No responde':\n",
    "        return 99\n",
    "    "
   ]
  },
  {
   "cell_type": "code",
   "execution_count": 47,
   "id": "d2978488",
   "metadata": {},
   "outputs": [],
   "source": [
    "df.insert(76, 'Identidad_partidista_codificado', df['Identidad_partidista'].apply(encoded_p7))"
   ]
  },
  {
   "cell_type": "code",
   "execution_count": 49,
   "id": "9a13f8a7",
   "metadata": {
    "scrolled": false
   },
   "outputs": [
    {
     "data": {
      "text/plain": [
       "array(['', 'el que le d mÃ¡s dinero', 'hagamos', 'pri pan prd',\n",
       "       'nueva alianza', 'alianza'], dtype=object)"
      ]
     },
     "execution_count": 49,
     "metadata": {},
     "output_type": "execute_result"
    }
   ],
   "source": [
    "df['p7_o'].unique()"
   ]
  },
  {
   "cell_type": "code",
   "execution_count": 50,
   "id": "41ff8983",
   "metadata": {},
   "outputs": [],
   "source": [
    "df.rename(columns={'p7_o':'Identidad_partidista_otros'}, inplace= True)"
   ]
  },
  {
   "cell_type": "markdown",
   "id": "7680ca1d",
   "metadata": {},
   "source": [
    "## 8) Tratamiento pregunta 8: ¿Sabe usted cuándo serán las próximas elecciones?"
   ]
  },
  {
   "cell_type": "code",
   "execution_count": 52,
   "id": "f172c915",
   "metadata": {},
   "outputs": [
    {
     "data": {
      "text/plain": [
       "['No sabe', '6 junio', 'Otro, ¿cuál?', 'Junio', 'No responde']\n",
       "Categories (5, object): ['6 junio', 'Junio', 'No responde', 'No sabe', 'Otro, ¿cuál?']"
      ]
     },
     "execution_count": 52,
     "metadata": {},
     "output_type": "execute_result"
    }
   ],
   "source": [
    "df['p8'].unique()"
   ]
  },
  {
   "cell_type": "code",
   "execution_count": 53,
   "id": "80966407",
   "metadata": {},
   "outputs": [],
   "source": [
    "df.rename(columns={'p8':'Fecha_de_la_elección'}, inplace= True)"
   ]
  },
  {
   "cell_type": "code",
   "execution_count": 54,
   "id": "412a6dc8",
   "metadata": {},
   "outputs": [
    {
     "data": {
      "text/plain": [
       "['fecha_inicio',\n",
       " 'folio',\n",
       " 'punto',\n",
       " 'circunscripcion',\n",
       " 'cve_ent',\n",
       " 'nom_ent',\n",
       " 'dto_fed',\n",
       " 'dto_loc',\n",
       " 'cve_mun',\n",
       " 'nom_mun',\n",
       " 'seccion',\n",
       " 'a',\n",
       " 'b',\n",
       " 'edad_recod',\n",
       " 'c',\n",
       " 'd',\n",
       " 'e',\n",
       " 'Aprobación_institucional',\n",
       " 'Aprobación_presidencial',\n",
       " 'Aprovación_presidencial_codificado',\n",
       " 'Aprobación_gobernador',\n",
       " 'Aprovación_gobernador_codificado',\n",
       " 'Voto_en_2018',\n",
       " 'Voto_en_2018_codificado',\n",
       " 'Otra_opción_2018',\n",
       " 'Opinión_partidos',\n",
       " 'PAN_Percepción',\n",
       " 'PAN_Percepción_codificado',\n",
       " 'PRI_Percepción',\n",
       " 'PRI_Percepción_codificado',\n",
       " 'PRD_Percepción',\n",
       " 'PRD_Percepción_codificado',\n",
       " 'PV_Percepción',\n",
       " 'PV_Percepción_codificado',\n",
       " 'PT_Percepción',\n",
       " 'PT_Percepción_codificado',\n",
       " 'MC_Percepción',\n",
       " 'MC_Percepción_codificado',\n",
       " 'MORENA_Percepción',\n",
       " 'MORENA_Percepción_codificado',\n",
       " 'PES_Percepción',\n",
       " 'PES_Percepción_codificado',\n",
       " 'RSP_Percepción',\n",
       " 'RSP_Percepción_codificado',\n",
       " 'FxM_Percepción',\n",
       " 'FxM_Percepción_codificado',\n",
       " 'Intención_del_voto_diputados',\n",
       " 'Intención_Diputados_codificado',\n",
       " 'Intención_diputados_otra',\n",
       " 'Preferencia_por_partido',\n",
       " 'Preferencia_por_partido_codificado',\n",
       " 'Preferencia_PAN',\n",
       " 'Preferencia_PAN_codificado',\n",
       " 'Preferencia_PRI',\n",
       " 'Preferencia_PRI_codificado',\n",
       " 'Preferencia_PRD',\n",
       " 'Preferencia_PRD_codificado',\n",
       " 'Preferencia_PV',\n",
       " 'Preferencia_PV_codificado',\n",
       " 'Preferencia_PT',\n",
       " 'Preferencia_PT_codificado',\n",
       " 'Preferencia_MC',\n",
       " 'Preferencia_MC_codificado',\n",
       " 'Preferencia_MORENA',\n",
       " 'Preferencia_MORENA_codificado',\n",
       " 'Preferencia_PES',\n",
       " 'Preferencia_PES_codificado',\n",
       " 'Preferencia_RSP',\n",
       " 'Preferencia_RSP_codificado',\n",
       " 'Preferencia_FxM',\n",
       " 'Preferencia_FxM_codificado',\n",
       " 'Partido_no_votaría',\n",
       " 'Partido_no_votaría_codificado',\n",
       " 'No_votaría_otros',\n",
       " 'No_votaría_otros_codificado',\n",
       " 'Identidad_partidista',\n",
       " 'Identidad_partidista_codificado',\n",
       " 'Identidad_partidista_otros',\n",
       " 'Fecha_de_la_elección',\n",
       " 'p8_o',\n",
       " 'p9',\n",
       " 'p10',\n",
       " 'p10_1',\n",
       " 'p10_2',\n",
       " 'p10_3',\n",
       " 'p11',\n",
       " 'p11_1',\n",
       " 'p11_2',\n",
       " 'p11_3',\n",
       " 'p11_4',\n",
       " 'p11_5',\n",
       " 'p11_6',\n",
       " 'p11_7',\n",
       " 'p11_8',\n",
       " 'p11_9',\n",
       " 'p11_10',\n",
       " 'p12',\n",
       " 'p13',\n",
       " 'p13_1',\n",
       " 'p13_2',\n",
       " 'p13_3',\n",
       " 'p13_4',\n",
       " 'p13_5',\n",
       " 'p14',\n",
       " 'p15',\n",
       " 'p16',\n",
       " 'p16_o',\n",
       " 'p17',\n",
       " 'p18',\n",
       " 'amai1',\n",
       " 'amai2',\n",
       " 'amai3',\n",
       " 'amai4',\n",
       " 'amai5',\n",
       " 'amai6',\n",
       " 'amai7',\n",
       " 'amai8',\n",
       " 'amaitot',\n",
       " 'amaifinal',\n",
       " 'fecha_termino',\n",
       " 'p_ponde']"
      ]
     },
     "execution_count": 54,
     "metadata": {},
     "output_type": "execute_result"
    }
   ],
   "source": [
    "list(df.columns)"
   ]
  },
  {
   "cell_type": "code",
   "execution_count": 55,
   "id": "bd52f0ce",
   "metadata": {},
   "outputs": [],
   "source": [
    "def encoded_p8(var:int)-> int:\n",
    "    if var == '6 junio':\n",
    "        return 1\n",
    "    if var == 'Junio': \n",
    "        return 2\n",
    "    if var == 'Otro, ¿cuál?': \n",
    "        return 3\n",
    "    if var == 'No sabe': \n",
    "        return 98\n",
    "    if var == 'No responde': \n",
    "        return 99\n",
    "        "
   ]
  },
  {
   "cell_type": "code",
   "execution_count": 56,
   "id": "7de5729f",
   "metadata": {},
   "outputs": [],
   "source": [
    "df.insert(79, 'Fecha_de_la_elección_codificado', df['Fecha_de_la_elección'].apply(encoded_p8))"
   ]
  },
  {
   "cell_type": "markdown",
   "id": "8d41e4cc",
   "metadata": {},
   "source": [
    "## 9) Tratamiento prgunta 9 ¿Qué tan probable es que vaya a votar las próximas elecciones?"
   ]
  },
  {
   "cell_type": "code",
   "execution_count": 58,
   "id": "7f2b244e",
   "metadata": {},
   "outputs": [],
   "source": [
    "df.rename(columns={'p9':'Nivel_de_Participación'}, inplace= True)"
   ]
  },
  {
   "cell_type": "code",
   "execution_count": 59,
   "id": "03550735",
   "metadata": {
    "scrolled": true
   },
   "outputs": [
    {
     "data": {
      "text/plain": [
       "['Es poco probable que vaya a votar',\n",
       " 'Estoy totalmente seguro/a de ir a votar',\n",
       " 'Es altamente probable que vaya a votar',\n",
       " 'No voy a ir a votar',\n",
       " ' No responde',\n",
       " ' No sabe']"
      ]
     },
     "execution_count": 59,
     "metadata": {},
     "output_type": "execute_result"
    }
   ],
   "source": [
    "list(df['Nivel_de_Participación'].unique())"
   ]
  },
  {
   "cell_type": "code",
   "execution_count": 60,
   "id": "10a7d1c7",
   "metadata": {},
   "outputs": [],
   "source": [
    "def encoded_p9(var:int)->int:\n",
    "    if var == 'Estoy totalmente seguro/a de ir a votar': \n",
    "        return 1\n",
    "    if var == 'Es altamente probable que vaya a votar':\n",
    "        return 2\n",
    "    if var == 'Es poco probable que vaya a votar': \n",
    "        return 3\n",
    "    if var == 'No voy a ir a votar': \n",
    "        return 4\n",
    "    if var == ' No sabe': \n",
    "        return 98\n",
    "    if var == ' No responde': \n",
    "        return 99"
   ]
  },
  {
   "cell_type": "code",
   "execution_count": 61,
   "id": "d304abf4",
   "metadata": {
    "scrolled": true
   },
   "outputs": [],
   "source": [
    "df.insert(81, 'Nivel_de_participación_codificado', df['Nivel_de_Participación'].apply(encoded_p9))"
   ]
  },
  {
   "cell_type": "code",
   "execution_count": 63,
   "id": "9fe73add",
   "metadata": {},
   "outputs": [],
   "source": [
    "del(df['p8_o'])"
   ]
  },
  {
   "cell_type": "markdown",
   "id": "969fafcd",
   "metadata": {},
   "source": [
    "## 10) Tratamiento de la pregunta 10: ¿Qué tan probable es que vaya a votar si el semáforo Covid está en...?"
   ]
  },
  {
   "cell_type": "code",
   "execution_count": 64,
   "id": "da3a9e08",
   "metadata": {},
   "outputs": [],
   "source": [
    "df.rename(columns= {'p10': 'Participación_con_semáforo_COVID', 'p10_1':'Semáforo_rojo', 'p10_2': 'Semáforo_naranja',\n",
    "                   'p10_3': 'Semáforo_amarillo'}, inplace= True)"
   ]
  },
  {
   "cell_type": "code",
   "execution_count": 65,
   "id": "53bec4e6",
   "metadata": {},
   "outputs": [
    {
     "data": {
      "text/plain": [
       "['No', 'Sí', 'Ns/nc']\n",
       "Categories (3, object): ['No', 'Ns/nc', 'Sí']"
      ]
     },
     "execution_count": 65,
     "metadata": {},
     "output_type": "execute_result"
    }
   ],
   "source": [
    "df['Semáforo_rojo'].unique()"
   ]
  },
  {
   "cell_type": "code",
   "execution_count": 66,
   "id": "26e12b71",
   "metadata": {},
   "outputs": [],
   "source": [
    "def si_o_no_encoded(var:int)-> int:\n",
    "    if var == 'Sí': \n",
    "        return 1\n",
    "    if var == 'No': \n",
    "        return 2\n",
    "    if var == 'Ns/nc':\n",
    "        return 99\n"
   ]
  },
  {
   "cell_type": "code",
   "execution_count": 68,
   "id": "a268cb67",
   "metadata": {
    "scrolled": true
   },
   "outputs": [
    {
     "name": "stderr",
     "output_type": "stream",
     "text": [
      "C:\\Users\\Juan Carlos\\anaconda3\\lib\\site-packages\\IPython\\core\\interactiveshell.py:3364: PerformanceWarning: DataFrame is highly fragmented.  This is usually the result of calling `frame.insert` many times, which has poor performance.  Consider joining all columns at once using pd.concat(axis=1) instead.  To get a de-fragmented frame, use `newframe = frame.copy()`\n",
      "  if (await self.run_code(code, result,  async_=asy)):\n"
     ]
    }
   ],
   "source": [
    "df.insert(84, 'Semáforo_rojo_codificado', df['Semáforo_rojo'].apply(si_o_no_encoded))\n",
    "df.insert(86, 'Semáforo_naranja_codificado', df['Semáforo_naranja'].apply(si_o_no_encoded))\n",
    "df.insert(88, 'Semáforo_amarillo_codificado', df['Semáforo_amarillo'].apply(si_o_no_encoded))"
   ]
  },
  {
   "cell_type": "markdown",
   "id": "b8fd6fe4",
   "metadata": {},
   "source": [
    "Puesto que se han hecho bastantes modificacoines, se realiza una copia del dataframe para que pueda ser procesado por Python de forma correcta. "
   ]
  },
  {
   "cell_type": "code",
   "execution_count": 69,
   "id": "d75fe813",
   "metadata": {},
   "outputs": [],
   "source": [
    "df_clean = df.copy()"
   ]
  },
  {
   "cell_type": "code",
   "execution_count": 70,
   "id": "0e7afa61",
   "metadata": {
    "scrolled": true
   },
   "outputs": [
    {
     "data": {
      "text/html": [
       "<div>\n",
       "<style scoped>\n",
       "    .dataframe tbody tr th:only-of-type {\n",
       "        vertical-align: middle;\n",
       "    }\n",
       "\n",
       "    .dataframe tbody tr th {\n",
       "        vertical-align: top;\n",
       "    }\n",
       "\n",
       "    .dataframe thead th {\n",
       "        text-align: right;\n",
       "    }\n",
       "</style>\n",
       "<table border=\"1\" class=\"dataframe\">\n",
       "  <thead>\n",
       "    <tr style=\"text-align: right;\">\n",
       "      <th></th>\n",
       "      <th>fecha_inicio</th>\n",
       "      <th>folio</th>\n",
       "      <th>punto</th>\n",
       "      <th>circunscripcion</th>\n",
       "      <th>cve_ent</th>\n",
       "      <th>nom_ent</th>\n",
       "      <th>dto_fed</th>\n",
       "      <th>dto_loc</th>\n",
       "      <th>cve_mun</th>\n",
       "      <th>nom_mun</th>\n",
       "      <th>...</th>\n",
       "      <th>amai3</th>\n",
       "      <th>amai4</th>\n",
       "      <th>amai5</th>\n",
       "      <th>amai6</th>\n",
       "      <th>amai7</th>\n",
       "      <th>amai8</th>\n",
       "      <th>amaitot</th>\n",
       "      <th>amaifinal</th>\n",
       "      <th>fecha_termino</th>\n",
       "      <th>p_ponde</th>\n",
       "    </tr>\n",
       "  </thead>\n",
       "  <tbody>\n",
       "    <tr>\n",
       "      <th>0</th>\n",
       "      <td>2021-05-09 22:20:26</td>\n",
       "      <td>2.0</td>\n",
       "      <td>1.0</td>\n",
       "      <td>1.0</td>\n",
       "      <td>2.0</td>\n",
       "      <td>BAJA CALIFORNIA</td>\n",
       "      <td>3.0</td>\n",
       "      <td>16.0</td>\n",
       "      <td>1.0</td>\n",
       "      <td>ENSENADA</td>\n",
       "      <td>...</td>\n",
       "      <td>No tiene</td>\n",
       "      <td>0 a 5</td>\n",
       "      <td>Tierra o cemento</td>\n",
       "      <td>0</td>\n",
       "      <td>Si tiene</td>\n",
       "      <td>Secundaria Incompleta</td>\n",
       "      <td>58.0</td>\n",
       "      <td>D</td>\n",
       "      <td>2021-05-09 22:32:54</td>\n",
       "      <td>76341.336349</td>\n",
       "    </tr>\n",
       "    <tr>\n",
       "      <th>1</th>\n",
       "      <td>2021-05-10 14:41:36</td>\n",
       "      <td>21.0</td>\n",
       "      <td>3.0</td>\n",
       "      <td>1.0</td>\n",
       "      <td>2.0</td>\n",
       "      <td>BAJA CALIFORNIA</td>\n",
       "      <td>7.0</td>\n",
       "      <td>6.0</td>\n",
       "      <td>3.0</td>\n",
       "      <td>TECATE</td>\n",
       "      <td>...</td>\n",
       "      <td>Si tiene</td>\n",
       "      <td>0 a 5</td>\n",
       "      <td>Tierra o cemento</td>\n",
       "      <td>0</td>\n",
       "      <td>Si tiene</td>\n",
       "      <td>Secundaria Incompleta</td>\n",
       "      <td>68.0</td>\n",
       "      <td>D</td>\n",
       "      <td>2021-05-10 14:53:47</td>\n",
       "      <td>41392.479285</td>\n",
       "    </tr>\n",
       "    <tr>\n",
       "      <th>2</th>\n",
       "      <td>2021-05-10 14:56:19</td>\n",
       "      <td>22.0</td>\n",
       "      <td>3.0</td>\n",
       "      <td>1.0</td>\n",
       "      <td>2.0</td>\n",
       "      <td>BAJA CALIFORNIA</td>\n",
       "      <td>7.0</td>\n",
       "      <td>6.0</td>\n",
       "      <td>3.0</td>\n",
       "      <td>TECATE</td>\n",
       "      <td>...</td>\n",
       "      <td>Si tiene</td>\n",
       "      <td>0 a 5</td>\n",
       "      <td>Tierra o cemento</td>\n",
       "      <td>0</td>\n",
       "      <td>Si tiene</td>\n",
       "      <td>Preparatoria Completa</td>\n",
       "      <td>84.0</td>\n",
       "      <td>D+</td>\n",
       "      <td>2021-05-10 17:21:40</td>\n",
       "      <td>64665.849112</td>\n",
       "    </tr>\n",
       "    <tr>\n",
       "      <th>3</th>\n",
       "      <td>2021-05-10 17:58:26</td>\n",
       "      <td>30.0</td>\n",
       "      <td>3.0</td>\n",
       "      <td>1.0</td>\n",
       "      <td>2.0</td>\n",
       "      <td>BAJA CALIFORNIA</td>\n",
       "      <td>7.0</td>\n",
       "      <td>6.0</td>\n",
       "      <td>3.0</td>\n",
       "      <td>TECATE</td>\n",
       "      <td>...</td>\n",
       "      <td>No tiene</td>\n",
       "      <td>6 a 10</td>\n",
       "      <td>Tierra o cemento</td>\n",
       "      <td>1</td>\n",
       "      <td>Si tiene</td>\n",
       "      <td>Secundaria Completa</td>\n",
       "      <td>105.0</td>\n",
       "      <td>C-</td>\n",
       "      <td>2021-05-10 18:10:12</td>\n",
       "      <td>56838.384450</td>\n",
       "    </tr>\n",
       "    <tr>\n",
       "      <th>4</th>\n",
       "      <td>2021-05-09 19:31:50</td>\n",
       "      <td>54.0</td>\n",
       "      <td>6.0</td>\n",
       "      <td>1.0</td>\n",
       "      <td>2.0</td>\n",
       "      <td>BAJA CALIFORNIA</td>\n",
       "      <td>4.0</td>\n",
       "      <td>7.0</td>\n",
       "      <td>4.0</td>\n",
       "      <td>TIJUANA</td>\n",
       "      <td>...</td>\n",
       "      <td>No contesta</td>\n",
       "      <td>No contesta</td>\n",
       "      <td>No contesta</td>\n",
       "      <td>No contesta</td>\n",
       "      <td>No contesta</td>\n",
       "      <td>No contesta</td>\n",
       "      <td>0.0</td>\n",
       "      <td>No responde</td>\n",
       "      <td>2021-05-09 19:48:28</td>\n",
       "      <td>76341.336349</td>\n",
       "    </tr>\n",
       "    <tr>\n",
       "      <th>...</th>\n",
       "      <td>...</td>\n",
       "      <td>...</td>\n",
       "      <td>...</td>\n",
       "      <td>...</td>\n",
       "      <td>...</td>\n",
       "      <td>...</td>\n",
       "      <td>...</td>\n",
       "      <td>...</td>\n",
       "      <td>...</td>\n",
       "      <td>...</td>\n",
       "      <td>...</td>\n",
       "      <td>...</td>\n",
       "      <td>...</td>\n",
       "      <td>...</td>\n",
       "      <td>...</td>\n",
       "      <td>...</td>\n",
       "      <td>...</td>\n",
       "      <td>...</td>\n",
       "      <td>...</td>\n",
       "      <td>...</td>\n",
       "      <td>...</td>\n",
       "    </tr>\n",
       "    <tr>\n",
       "      <th>1975</th>\n",
       "      <td>2021-05-11 14:53:51</td>\n",
       "      <td>1978.0</td>\n",
       "      <td>198.0</td>\n",
       "      <td>5.0</td>\n",
       "      <td>16.0</td>\n",
       "      <td>MICHOACÃN</td>\n",
       "      <td>11.0</td>\n",
       "      <td>19.0</td>\n",
       "      <td>98.0</td>\n",
       "      <td>TURICATO</td>\n",
       "      <td>...</td>\n",
       "      <td>Si tiene</td>\n",
       "      <td>6 a 10</td>\n",
       "      <td>Tierra o cemento</td>\n",
       "      <td>1</td>\n",
       "      <td>Si tiene</td>\n",
       "      <td>Primaria Incompleta</td>\n",
       "      <td>113.0</td>\n",
       "      <td>C-</td>\n",
       "      <td>2021-05-11 15:12:44</td>\n",
       "      <td>41953.769494</td>\n",
       "    </tr>\n",
       "    <tr>\n",
       "      <th>1976</th>\n",
       "      <td>2021-05-09 12:56:35</td>\n",
       "      <td>1982.0</td>\n",
       "      <td>199.0</td>\n",
       "      <td>5.0</td>\n",
       "      <td>16.0</td>\n",
       "      <td>MICHOACÃN</td>\n",
       "      <td>9.0</td>\n",
       "      <td>20.0</td>\n",
       "      <td>103.0</td>\n",
       "      <td>URUAPAN</td>\n",
       "      <td>...</td>\n",
       "      <td>Si tiene</td>\n",
       "      <td>6 a 10</td>\n",
       "      <td>Otro tipo de material o acabado</td>\n",
       "      <td>1</td>\n",
       "      <td>Si tiene</td>\n",
       "      <td>Carrera Técnica</td>\n",
       "      <td>142.0</td>\n",
       "      <td>C</td>\n",
       "      <td>2021-05-09 13:12:30</td>\n",
       "      <td>41953.769494</td>\n",
       "    </tr>\n",
       "    <tr>\n",
       "      <th>1977</th>\n",
       "      <td>2021-05-09 15:01:13</td>\n",
       "      <td>1989.0</td>\n",
       "      <td>199.0</td>\n",
       "      <td>5.0</td>\n",
       "      <td>16.0</td>\n",
       "      <td>MICHOACÃN</td>\n",
       "      <td>9.0</td>\n",
       "      <td>20.0</td>\n",
       "      <td>103.0</td>\n",
       "      <td>URUAPAN</td>\n",
       "      <td>...</td>\n",
       "      <td>Si tiene</td>\n",
       "      <td>No contesta</td>\n",
       "      <td>Otro tipo de material o acabado</td>\n",
       "      <td>0</td>\n",
       "      <td>Si tiene</td>\n",
       "      <td>Licenciatura Completa</td>\n",
       "      <td>129.0</td>\n",
       "      <td>No responde</td>\n",
       "      <td>2021-05-09 15:22:33</td>\n",
       "      <td>47731.412406</td>\n",
       "    </tr>\n",
       "    <tr>\n",
       "      <th>1978</th>\n",
       "      <td>2021-05-09 15:27:02</td>\n",
       "      <td>1990.0</td>\n",
       "      <td>199.0</td>\n",
       "      <td>5.0</td>\n",
       "      <td>16.0</td>\n",
       "      <td>MICHOACÃN</td>\n",
       "      <td>9.0</td>\n",
       "      <td>20.0</td>\n",
       "      <td>103.0</td>\n",
       "      <td>URUAPAN</td>\n",
       "      <td>...</td>\n",
       "      <td>Si tiene</td>\n",
       "      <td>6 a 10</td>\n",
       "      <td>Otro tipo de material o acabado</td>\n",
       "      <td>0</td>\n",
       "      <td>Si tiene</td>\n",
       "      <td>Preparatoria Completa</td>\n",
       "      <td>130.0</td>\n",
       "      <td>C</td>\n",
       "      <td>2021-05-09 15:41:03</td>\n",
       "      <td>56349.367022</td>\n",
       "    </tr>\n",
       "    <tr>\n",
       "      <th>1979</th>\n",
       "      <td>2021-05-10 15:00:43</td>\n",
       "      <td>1997.0</td>\n",
       "      <td>200.0</td>\n",
       "      <td>5.0</td>\n",
       "      <td>16.0</td>\n",
       "      <td>MICHOACÃN</td>\n",
       "      <td>3.0</td>\n",
       "      <td>13.0</td>\n",
       "      <td>113.0</td>\n",
       "      <td>ZITACUARO</td>\n",
       "      <td>...</td>\n",
       "      <td>No tiene</td>\n",
       "      <td>0 a 5</td>\n",
       "      <td>Tierra o cemento</td>\n",
       "      <td>0</td>\n",
       "      <td>Si tiene</td>\n",
       "      <td>No estudió</td>\n",
       "      <td>20.0</td>\n",
       "      <td>E</td>\n",
       "      <td>2021-05-10 15:18:06</td>\n",
       "      <td>39704.133405</td>\n",
       "    </tr>\n",
       "  </tbody>\n",
       "</table>\n",
       "<p>1980 rows × 125 columns</p>\n",
       "</div>"
      ],
      "text/plain": [
       "            fecha_inicio   folio  punto  circunscripcion  cve_ent  \\\n",
       "0    2021-05-09 22:20:26     2.0    1.0              1.0      2.0   \n",
       "1    2021-05-10 14:41:36    21.0    3.0              1.0      2.0   \n",
       "2    2021-05-10 14:56:19    22.0    3.0              1.0      2.0   \n",
       "3    2021-05-10 17:58:26    30.0    3.0              1.0      2.0   \n",
       "4    2021-05-09 19:31:50    54.0    6.0              1.0      2.0   \n",
       "...                  ...     ...    ...              ...      ...   \n",
       "1975 2021-05-11 14:53:51  1978.0  198.0              5.0     16.0   \n",
       "1976 2021-05-09 12:56:35  1982.0  199.0              5.0     16.0   \n",
       "1977 2021-05-09 15:01:13  1989.0  199.0              5.0     16.0   \n",
       "1978 2021-05-09 15:27:02  1990.0  199.0              5.0     16.0   \n",
       "1979 2021-05-10 15:00:43  1997.0  200.0              5.0     16.0   \n",
       "\n",
       "              nom_ent  dto_fed  dto_loc  cve_mun    nom_mun  ...  \\\n",
       "0     BAJA CALIFORNIA      3.0     16.0      1.0   ENSENADA  ...   \n",
       "1     BAJA CALIFORNIA      7.0      6.0      3.0     TECATE  ...   \n",
       "2     BAJA CALIFORNIA      7.0      6.0      3.0     TECATE  ...   \n",
       "3     BAJA CALIFORNIA      7.0      6.0      3.0     TECATE  ...   \n",
       "4     BAJA CALIFORNIA      4.0      7.0      4.0    TIJUANA  ...   \n",
       "...               ...      ...      ...      ...        ...  ...   \n",
       "1975       MICHOACÃN     11.0     19.0     98.0   TURICATO  ...   \n",
       "1976       MICHOACÃN      9.0     20.0    103.0    URUAPAN  ...   \n",
       "1977       MICHOACÃN      9.0     20.0    103.0    URUAPAN  ...   \n",
       "1978       MICHOACÃN      9.0     20.0    103.0    URUAPAN  ...   \n",
       "1979       MICHOACÃN      3.0     13.0    113.0  ZITACUARO  ...   \n",
       "\n",
       "             amai3         amai4                            amai5  \\\n",
       "0         No tiene         0 a 5                 Tierra o cemento   \n",
       "1         Si tiene         0 a 5                 Tierra o cemento   \n",
       "2         Si tiene         0 a 5                 Tierra o cemento   \n",
       "3         No tiene        6 a 10                 Tierra o cemento   \n",
       "4      No contesta   No contesta                      No contesta   \n",
       "...            ...           ...                              ...   \n",
       "1975      Si tiene        6 a 10                 Tierra o cemento   \n",
       "1976      Si tiene        6 a 10  Otro tipo de material o acabado   \n",
       "1977      Si tiene   No contesta  Otro tipo de material o acabado   \n",
       "1978      Si tiene        6 a 10  Otro tipo de material o acabado   \n",
       "1979      No tiene         0 a 5                 Tierra o cemento   \n",
       "\n",
       "             amai6         amai7                  amai8 amaitot    amaifinal  \\\n",
       "0                0      Si tiene  Secundaria Incompleta    58.0            D   \n",
       "1                0      Si tiene  Secundaria Incompleta    68.0            D   \n",
       "2                0      Si tiene  Preparatoria Completa    84.0           D+   \n",
       "3                1      Si tiene    Secundaria Completa   105.0           C-   \n",
       "4      No contesta   No contesta            No contesta     0.0  No responde   \n",
       "...            ...           ...                    ...     ...          ...   \n",
       "1975             1      Si tiene    Primaria Incompleta   113.0           C-   \n",
       "1976             1      Si tiene        Carrera Técnica   142.0            C   \n",
       "1977             0      Si tiene  Licenciatura Completa   129.0  No responde   \n",
       "1978             0      Si tiene  Preparatoria Completa   130.0            C   \n",
       "1979             0      Si tiene             No estudió    20.0            E   \n",
       "\n",
       "           fecha_termino       p_ponde  \n",
       "0    2021-05-09 22:32:54  76341.336349  \n",
       "1    2021-05-10 14:53:47  41392.479285  \n",
       "2    2021-05-10 17:21:40  64665.849112  \n",
       "3    2021-05-10 18:10:12  56838.384450  \n",
       "4    2021-05-09 19:48:28  76341.336349  \n",
       "...                  ...           ...  \n",
       "1975 2021-05-11 15:12:44  41953.769494  \n",
       "1976 2021-05-09 13:12:30  41953.769494  \n",
       "1977 2021-05-09 15:22:33  47731.412406  \n",
       "1978 2021-05-09 15:41:03  56349.367022  \n",
       "1979 2021-05-10 15:18:06  39704.133405  \n",
       "\n",
       "[1980 rows x 125 columns]"
      ]
     },
     "execution_count": 70,
     "metadata": {},
     "output_type": "execute_result"
    }
   ],
   "source": [
    "df_clean"
   ]
  },
  {
   "cell_type": "markdown",
   "id": "6fb914dc",
   "metadata": {},
   "source": [
    "## 11) Tratamiento pregunta 11 : ¿Que tanto confía en las siguientes instituciones?"
   ]
  },
  {
   "cell_type": "code",
   "execution_count": 72,
   "id": "0eaa84cc",
   "metadata": {},
   "outputs": [
    {
     "data": {
      "text/plain": [
       "array([nan])"
      ]
     },
     "execution_count": 72,
     "metadata": {},
     "output_type": "execute_result"
    }
   ],
   "source": [
    "df['p11'].unique()"
   ]
  },
  {
   "cell_type": "code",
   "execution_count": 73,
   "id": "04c388dd",
   "metadata": {},
   "outputs": [],
   "source": [
    "df_clean.rename(columns={'p11':'Confianza_institucional', 'p11_1':'Confianza_INE', 'p11_2':'Confianza_TRIFE', \n",
    "                        'p11_3':'Confianza_televisoras', 'p11_4':'Confianza_periódicos', 'p11_5':'Confianza_redes_sociales',\n",
    "                        'p11_6':'Confianza_Cámara_de_Diputados', 'p11_7':'Confianza_Guardia_nacional', 'p11_8': 'Confianza_ejército',\n",
    "                        'p11_9':'Confianza_polícía', 'p11_10':'Confianza_jueces'}, inplace=True)"
   ]
  },
  {
   "cell_type": "code",
   "execution_count": 74,
   "id": "63ae066c",
   "metadata": {},
   "outputs": [
    {
     "data": {
      "text/plain": [
       "['fecha_inicio',\n",
       " 'folio',\n",
       " 'punto',\n",
       " 'circunscripcion',\n",
       " 'cve_ent',\n",
       " 'nom_ent',\n",
       " 'dto_fed',\n",
       " 'dto_loc',\n",
       " 'cve_mun',\n",
       " 'nom_mun',\n",
       " 'seccion',\n",
       " 'a',\n",
       " 'b',\n",
       " 'edad_recod',\n",
       " 'c',\n",
       " 'd',\n",
       " 'e',\n",
       " 'Aprobación_institucional',\n",
       " 'Aprobación_presidencial',\n",
       " 'Aprovación_presidencial_codificado',\n",
       " 'Aprobación_gobernador',\n",
       " 'Aprovación_gobernador_codificado',\n",
       " 'Voto_en_2018',\n",
       " 'Voto_en_2018_codificado',\n",
       " 'Otra_opción_2018',\n",
       " 'Opinión_partidos',\n",
       " 'PAN_Percepción',\n",
       " 'PAN_Percepción_codificado',\n",
       " 'PRI_Percepción',\n",
       " 'PRI_Percepción_codificado',\n",
       " 'PRD_Percepción',\n",
       " 'PRD_Percepción_codificado',\n",
       " 'PV_Percepción',\n",
       " 'PV_Percepción_codificado',\n",
       " 'PT_Percepción',\n",
       " 'PT_Percepción_codificado',\n",
       " 'MC_Percepción',\n",
       " 'MC_Percepción_codificado',\n",
       " 'MORENA_Percepción',\n",
       " 'MORENA_Percepción_codificado',\n",
       " 'PES_Percepción',\n",
       " 'PES_Percepción_codificado',\n",
       " 'RSP_Percepción',\n",
       " 'RSP_Percepción_codificado',\n",
       " 'FxM_Percepción',\n",
       " 'FxM_Percepción_codificado',\n",
       " 'Intención_del_voto_diputados',\n",
       " 'Intención_Diputados_codificado',\n",
       " 'Intención_diputados_otra',\n",
       " 'Preferencia_por_partido',\n",
       " 'Preferencia_por_partido_codificado',\n",
       " 'Preferencia_PAN',\n",
       " 'Preferencia_PAN_codificado',\n",
       " 'Preferencia_PRI',\n",
       " 'Preferencia_PRI_codificado',\n",
       " 'Preferencia_PRD',\n",
       " 'Preferencia_PRD_codificado',\n",
       " 'Preferencia_PV',\n",
       " 'Preferencia_PV_codificado',\n",
       " 'Preferencia_PT',\n",
       " 'Preferencia_PT_codificado',\n",
       " 'Preferencia_MC',\n",
       " 'Preferencia_MC_codificado',\n",
       " 'Preferencia_MORENA',\n",
       " 'Preferencia_MORENA_codificado',\n",
       " 'Preferencia_PES',\n",
       " 'Preferencia_PES_codificado',\n",
       " 'Preferencia_RSP',\n",
       " 'Preferencia_RSP_codificado',\n",
       " 'Preferencia_FxM',\n",
       " 'Preferencia_FxM_codificado',\n",
       " 'Partido_no_votaría',\n",
       " 'Partido_no_votaría_codificado',\n",
       " 'No_votaría_otros',\n",
       " 'No_votaría_otros_codificado',\n",
       " 'Identidad_partidista',\n",
       " 'Identidad_partidista_codificado',\n",
       " 'Identidad_partidista_otros',\n",
       " 'Fecha_de_la_elección',\n",
       " 'Fecha_de_la_elección_codificado',\n",
       " 'Nivel_de_participación_codificado',\n",
       " 'Nivel_de_Participación',\n",
       " 'Participación_con_semáforo_COVID',\n",
       " 'Semáforo_rojo',\n",
       " 'Semáforo_rojo_codificado',\n",
       " 'Semáforo_naranja',\n",
       " 'Semáforo_naranja_codificado',\n",
       " 'Semáforo_amarillo',\n",
       " 'Semáforo_amarillo_codificado',\n",
       " 'Confianza_institucional',\n",
       " 'Confianza_INE',\n",
       " 'Confianza_TRIFE',\n",
       " 'Confianza_televisoras',\n",
       " 'Confianza_periódicos',\n",
       " 'Confianza_redes_sociales',\n",
       " 'Confianza_Cámara_de_Diputados',\n",
       " 'Confianza_Guardia_nacional',\n",
       " 'Confianza_ejército',\n",
       " 'Confianza_polícía',\n",
       " 'Confianza_jueces',\n",
       " 'p12',\n",
       " 'p13',\n",
       " 'p13_1',\n",
       " 'p13_2',\n",
       " 'p13_3',\n",
       " 'p13_4',\n",
       " 'p13_5',\n",
       " 'p14',\n",
       " 'p15',\n",
       " 'p16',\n",
       " 'p16_o',\n",
       " 'p17',\n",
       " 'p18',\n",
       " 'amai1',\n",
       " 'amai2',\n",
       " 'amai3',\n",
       " 'amai4',\n",
       " 'amai5',\n",
       " 'amai6',\n",
       " 'amai7',\n",
       " 'amai8',\n",
       " 'amaitot',\n",
       " 'amaifinal',\n",
       " 'fecha_termino',\n",
       " 'p_ponde']"
      ]
     },
     "execution_count": 74,
     "metadata": {},
     "output_type": "execute_result"
    }
   ],
   "source": [
    "list(df_clean.columns)"
   ]
  },
  {
   "cell_type": "code",
   "execution_count": 75,
   "id": "cd75a714",
   "metadata": {},
   "outputs": [
    {
     "data": {
      "text/plain": [
       "['Algo', 'Poco', 'Mucho', 'Nada', ' Ns/nc']\n",
       "Categories (5, object): [' Ns/nc', 'Algo', 'Mucho', 'Nada', 'Poco']"
      ]
     },
     "execution_count": 75,
     "metadata": {},
     "output_type": "execute_result"
    }
   ],
   "source": [
    "df_clean['Confianza_INE'].unique()"
   ]
  },
  {
   "cell_type": "code",
   "execution_count": 76,
   "id": "8d7a1097",
   "metadata": {},
   "outputs": [],
   "source": [
    "def confianza_encoded(var:int)->int:\n",
    "    if var == 'Mucho': \n",
    "        return 4\n",
    "    if var == 'Algo': \n",
    "        return 3\n",
    "    if var == 'Poco': \n",
    "        return 2\n",
    "    if var == 'Nada': \n",
    "        return 1\n",
    "    if var == ' Ns/nc':\n",
    "        return 9"
   ]
  },
  {
   "cell_type": "code",
   "execution_count": 78,
   "id": "7f13ae1c",
   "metadata": {
    "scrolled": true
   },
   "outputs": [
    {
     "name": "stderr",
     "output_type": "stream",
     "text": [
      "C:\\Users\\Juan Carlos\\anaconda3\\lib\\site-packages\\IPython\\core\\interactiveshell.py:3364: PerformanceWarning: DataFrame is highly fragmented.  This is usually the result of calling `frame.insert` many times, which has poor performance.  Consider joining all columns at once using pd.concat(axis=1) instead.  To get a de-fragmented frame, use `newframe = frame.copy()`\n",
      "  if (await self.run_code(code, result,  async_=asy)):\n"
     ]
    }
   ],
   "source": [
    "df_clean.insert(91,'Confianza_INE_codificado', df_clean['Confianza_INE'].apply(confianza_encoded))\n",
    "df_clean.insert(93,'Confianza_TRIFE_codificado', df_clean['Confianza_TRIFE'].apply(confianza_encoded))\n",
    "df_clean.insert(95,'Confianza_televisoras_codificado', df_clean['Confianza_televisoras'].apply(confianza_encoded))\n",
    "df_clean.insert(97,'Confianza_periódicos_codificado', df_clean['Confianza_periódicos'].apply(confianza_encoded))\n",
    "df_clean.insert(99,'Confianza_redes_codificado', df_clean['Confianza_redes_sociales'].apply(confianza_encoded))\n",
    "df_clean.insert(101,'Confianza_Diputados_codificado', df_clean['Confianza_Cámara_de_Diputados'].apply(confianza_encoded))\n",
    "df_clean.insert(103,'Confianza_Guardia_Nacional_codificado', df_clean['Confianza_Guardia_nacional'].apply(confianza_encoded))\n",
    "df_clean.insert(105,'Confianza_Ejército_codificado', df_clean['Confianza_ejército'].apply(confianza_encoded))\n",
    "df_clean.insert(107,'Confianza_policía_codificado', df_clean['Confianza_polícía'].apply(confianza_encoded))\n",
    "df_clean.insert(109,'Confianza_jueces_codificado', df_clean['Confianza_jueces'].apply(confianza_encoded))\n"
   ]
  },
  {
   "cell_type": "markdown",
   "id": "d99f1300",
   "metadata": {},
   "source": [
    "## 12) Tratamiento pregunta 12:  ¿Usted utiliza internet?"
   ]
  },
  {
   "cell_type": "code",
   "execution_count": 79,
   "id": "3b8d882c",
   "metadata": {},
   "outputs": [],
   "source": [
    "df_clean.rename(columns={'p12':'Utiliza_internet'}, inplace=True)"
   ]
  },
  {
   "cell_type": "code",
   "execution_count": 81,
   "id": "0dd9f247",
   "metadata": {},
   "outputs": [],
   "source": [
    "def si_o_no(var:int)->int:\n",
    "    if var == 'Sí': \n",
    "        return 1\n",
    "    if var == 'No':\n",
    "        return 2\n",
    "    if var == 'Ns/nc': \n",
    "        return 99"
   ]
  },
  {
   "cell_type": "code",
   "execution_count": 82,
   "id": "76740d39",
   "metadata": {},
   "outputs": [],
   "source": [
    "df_clean.insert(111,'Utiliza_internet_codificado', df_clean['Utiliza_internet'].apply(si_o_no))"
   ]
  },
  {
   "cell_type": "markdown",
   "id": "0554fa3f",
   "metadata": {},
   "source": [
    "## 13) Tratamiento pregunta 13 ¿Usted utiliza alguno de los siguientes medios de comunicación? "
   ]
  },
  {
   "cell_type": "code",
   "execution_count": 83,
   "id": "e79c2e35",
   "metadata": {},
   "outputs": [
    {
     "data": {
      "text/plain": [
       "array([nan])"
      ]
     },
     "execution_count": 83,
     "metadata": {},
     "output_type": "execute_result"
    }
   ],
   "source": [
    "df_clean['p13'].unique()"
   ]
  },
  {
   "cell_type": "code",
   "execution_count": 84,
   "id": "c4318447",
   "metadata": {},
   "outputs": [],
   "source": [
    "df_clean.rename(columns={'p13':'Utilización_de_medios', 'p13_1':'Utilizó_twitter', 'p13_2':'Utilizó_Facebook', \n",
    "                        'p13_3': 'Utilizó_Instagram', 'p13_4':'Utilizó_Youtube', 'p13_5':'Utilizó_Whatsapp' }, inplace=True)"
   ]
  },
  {
   "cell_type": "code",
   "execution_count": 85,
   "id": "fdcc3b96",
   "metadata": {},
   "outputs": [
    {
     "data": {
      "text/plain": [
       "['fecha_inicio',\n",
       " 'folio',\n",
       " 'punto',\n",
       " 'circunscripcion',\n",
       " 'cve_ent',\n",
       " 'nom_ent',\n",
       " 'dto_fed',\n",
       " 'dto_loc',\n",
       " 'cve_mun',\n",
       " 'nom_mun',\n",
       " 'seccion',\n",
       " 'a',\n",
       " 'b',\n",
       " 'edad_recod',\n",
       " 'c',\n",
       " 'd',\n",
       " 'e',\n",
       " 'Aprobación_institucional',\n",
       " 'Aprobación_presidencial',\n",
       " 'Aprovación_presidencial_codificado',\n",
       " 'Aprobación_gobernador',\n",
       " 'Aprovación_gobernador_codificado',\n",
       " 'Voto_en_2018',\n",
       " 'Voto_en_2018_codificado',\n",
       " 'Otra_opción_2018',\n",
       " 'Opinión_partidos',\n",
       " 'PAN_Percepción',\n",
       " 'PAN_Percepción_codificado',\n",
       " 'PRI_Percepción',\n",
       " 'PRI_Percepción_codificado',\n",
       " 'PRD_Percepción',\n",
       " 'PRD_Percepción_codificado',\n",
       " 'PV_Percepción',\n",
       " 'PV_Percepción_codificado',\n",
       " 'PT_Percepción',\n",
       " 'PT_Percepción_codificado',\n",
       " 'MC_Percepción',\n",
       " 'MC_Percepción_codificado',\n",
       " 'MORENA_Percepción',\n",
       " 'MORENA_Percepción_codificado',\n",
       " 'PES_Percepción',\n",
       " 'PES_Percepción_codificado',\n",
       " 'RSP_Percepción',\n",
       " 'RSP_Percepción_codificado',\n",
       " 'FxM_Percepción',\n",
       " 'FxM_Percepción_codificado',\n",
       " 'Intención_del_voto_diputados',\n",
       " 'Intención_Diputados_codificado',\n",
       " 'Intención_diputados_otra',\n",
       " 'Preferencia_por_partido',\n",
       " 'Preferencia_por_partido_codificado',\n",
       " 'Preferencia_PAN',\n",
       " 'Preferencia_PAN_codificado',\n",
       " 'Preferencia_PRI',\n",
       " 'Preferencia_PRI_codificado',\n",
       " 'Preferencia_PRD',\n",
       " 'Preferencia_PRD_codificado',\n",
       " 'Preferencia_PV',\n",
       " 'Preferencia_PV_codificado',\n",
       " 'Preferencia_PT',\n",
       " 'Preferencia_PT_codificado',\n",
       " 'Preferencia_MC',\n",
       " 'Preferencia_MC_codificado',\n",
       " 'Preferencia_MORENA',\n",
       " 'Preferencia_MORENA_codificado',\n",
       " 'Preferencia_PES',\n",
       " 'Preferencia_PES_codificado',\n",
       " 'Preferencia_RSP',\n",
       " 'Preferencia_RSP_codificado',\n",
       " 'Preferencia_FxM',\n",
       " 'Preferencia_FxM_codificado',\n",
       " 'Partido_no_votaría',\n",
       " 'Partido_no_votaría_codificado',\n",
       " 'No_votaría_otros',\n",
       " 'No_votaría_otros_codificado',\n",
       " 'Identidad_partidista',\n",
       " 'Identidad_partidista_codificado',\n",
       " 'Identidad_partidista_otros',\n",
       " 'Fecha_de_la_elección',\n",
       " 'Fecha_de_la_elección_codificado',\n",
       " 'Nivel_de_participación_codificado',\n",
       " 'Nivel_de_Participación',\n",
       " 'Participación_con_semáforo_COVID',\n",
       " 'Semáforo_rojo',\n",
       " 'Semáforo_rojo_codificado',\n",
       " 'Semáforo_naranja',\n",
       " 'Semáforo_naranja_codificado',\n",
       " 'Semáforo_amarillo',\n",
       " 'Semáforo_amarillo_codificado',\n",
       " 'Confianza_institucional',\n",
       " 'Confianza_INE',\n",
       " 'Confianza_INE_codificado',\n",
       " 'Confianza_TRIFE',\n",
       " 'Confianza_TRIFE_codificado',\n",
       " 'Confianza_televisoras',\n",
       " 'Confianza_televisoras_codificado',\n",
       " 'Confianza_periódicos',\n",
       " 'Confianza_periódicos_codificado',\n",
       " 'Confianza_redes_sociales',\n",
       " 'Confianza_redes_codificado',\n",
       " 'Confianza_Cámara_de_Diputados',\n",
       " 'Confianza_Diputados_codificado',\n",
       " 'Confianza_Guardia_nacional',\n",
       " 'Confianza_Guardia_Nacional_codificado',\n",
       " 'Confianza_ejército',\n",
       " 'Confianza_Ejército_codificado',\n",
       " 'Confianza_polícía',\n",
       " 'Confianza_policía_codificado',\n",
       " 'Confianza_jueces',\n",
       " 'Confianza_jueces_codificado',\n",
       " 'Utiliza_internet',\n",
       " 'Utiliza_internet_codificado',\n",
       " 'Utilización_de_medios',\n",
       " 'Utilizó_twitter',\n",
       " 'Utilizó_Facebook',\n",
       " 'Utilizó_Instagram',\n",
       " 'Utilizó_Youtube',\n",
       " 'Utilizó_Whatsapp',\n",
       " 'p14',\n",
       " 'p15',\n",
       " 'p16',\n",
       " 'p16_o',\n",
       " 'p17',\n",
       " 'p18',\n",
       " 'amai1',\n",
       " 'amai2',\n",
       " 'amai3',\n",
       " 'amai4',\n",
       " 'amai5',\n",
       " 'amai6',\n",
       " 'amai7',\n",
       " 'amai8',\n",
       " 'amaitot',\n",
       " 'amaifinal',\n",
       " 'fecha_termino',\n",
       " 'p_ponde']"
      ]
     },
     "execution_count": 85,
     "metadata": {},
     "output_type": "execute_result"
    }
   ],
   "source": [
    "list(df_clean.columns)"
   ]
  },
  {
   "cell_type": "code",
   "execution_count": 86,
   "id": "246c3998",
   "metadata": {},
   "outputs": [],
   "source": [
    "df_clean.insert(114,'Utilizó_twitter_codificado', df_clean['Utilizó_twitter'].apply(si_o_no))\n",
    "df_clean.insert(116,'Utilizó_Facebook_codificado', df_clean['Utilizó_Facebook'].apply(si_o_no))\n",
    "df_clean.insert(118,'Utilizó_Instagram_codificado', df_clean['Utilizó_Instagram'].apply(si_o_no))\n",
    "df_clean.insert(120,'Utilizó_Youtube_codificado', df_clean['Utilizó_Youtube'].apply(si_o_no))\n",
    "df_clean.insert(122,'Utilizó_Whatsapp_codificado', df_clean['Utilizó_Whatsapp'].apply(si_o_no))"
   ]
  },
  {
   "cell_type": "code",
   "execution_count": 87,
   "id": "1192f389",
   "metadata": {},
   "outputs": [],
   "source": [
    "df2= df_clean.copy()"
   ]
  },
  {
   "cell_type": "markdown",
   "id": "c4985d77",
   "metadata": {},
   "source": [
    "## 14) Tratamiento preguntas 14, 15 16, 17,  18. "
   ]
  },
  {
   "cell_type": "code",
   "execution_count": 88,
   "id": "7927afb9",
   "metadata": {},
   "outputs": [],
   "source": [
    "df2.rename(columns={'p14':'Beneficiario_programa_social', 'p15':'Escolaridad', 'p16':'Ocupación',\n",
    "                   'p17':'Estado_civil', 'p18':'Tiene_hijos'}, inplace=True)"
   ]
  },
  {
   "cell_type": "code",
   "execution_count": 89,
   "id": "64dede83",
   "metadata": {},
   "outputs": [
    {
     "data": {
      "text/plain": [
       "['fecha_inicio',\n",
       " 'folio',\n",
       " 'punto',\n",
       " 'circunscripcion',\n",
       " 'cve_ent',\n",
       " 'nom_ent',\n",
       " 'dto_fed',\n",
       " 'dto_loc',\n",
       " 'cve_mun',\n",
       " 'nom_mun',\n",
       " 'seccion',\n",
       " 'a',\n",
       " 'b',\n",
       " 'edad_recod',\n",
       " 'c',\n",
       " 'd',\n",
       " 'e',\n",
       " 'Aprobación_institucional',\n",
       " 'Aprobación_presidencial',\n",
       " 'Aprovación_presidencial_codificado',\n",
       " 'Aprobación_gobernador',\n",
       " 'Aprovación_gobernador_codificado',\n",
       " 'Voto_en_2018',\n",
       " 'Voto_en_2018_codificado',\n",
       " 'Otra_opción_2018',\n",
       " 'Opinión_partidos',\n",
       " 'PAN_Percepción',\n",
       " 'PAN_Percepción_codificado',\n",
       " 'PRI_Percepción',\n",
       " 'PRI_Percepción_codificado',\n",
       " 'PRD_Percepción',\n",
       " 'PRD_Percepción_codificado',\n",
       " 'PV_Percepción',\n",
       " 'PV_Percepción_codificado',\n",
       " 'PT_Percepción',\n",
       " 'PT_Percepción_codificado',\n",
       " 'MC_Percepción',\n",
       " 'MC_Percepción_codificado',\n",
       " 'MORENA_Percepción',\n",
       " 'MORENA_Percepción_codificado',\n",
       " 'PES_Percepción',\n",
       " 'PES_Percepción_codificado',\n",
       " 'RSP_Percepción',\n",
       " 'RSP_Percepción_codificado',\n",
       " 'FxM_Percepción',\n",
       " 'FxM_Percepción_codificado',\n",
       " 'Intención_del_voto_diputados',\n",
       " 'Intención_Diputados_codificado',\n",
       " 'Intención_diputados_otra',\n",
       " 'Preferencia_por_partido',\n",
       " 'Preferencia_por_partido_codificado',\n",
       " 'Preferencia_PAN',\n",
       " 'Preferencia_PAN_codificado',\n",
       " 'Preferencia_PRI',\n",
       " 'Preferencia_PRI_codificado',\n",
       " 'Preferencia_PRD',\n",
       " 'Preferencia_PRD_codificado',\n",
       " 'Preferencia_PV',\n",
       " 'Preferencia_PV_codificado',\n",
       " 'Preferencia_PT',\n",
       " 'Preferencia_PT_codificado',\n",
       " 'Preferencia_MC',\n",
       " 'Preferencia_MC_codificado',\n",
       " 'Preferencia_MORENA',\n",
       " 'Preferencia_MORENA_codificado',\n",
       " 'Preferencia_PES',\n",
       " 'Preferencia_PES_codificado',\n",
       " 'Preferencia_RSP',\n",
       " 'Preferencia_RSP_codificado',\n",
       " 'Preferencia_FxM',\n",
       " 'Preferencia_FxM_codificado',\n",
       " 'Partido_no_votaría',\n",
       " 'Partido_no_votaría_codificado',\n",
       " 'No_votaría_otros',\n",
       " 'No_votaría_otros_codificado',\n",
       " 'Identidad_partidista',\n",
       " 'Identidad_partidista_codificado',\n",
       " 'Identidad_partidista_otros',\n",
       " 'Fecha_de_la_elección',\n",
       " 'Fecha_de_la_elección_codificado',\n",
       " 'Nivel_de_participación_codificado',\n",
       " 'Nivel_de_Participación',\n",
       " 'Participación_con_semáforo_COVID',\n",
       " 'Semáforo_rojo',\n",
       " 'Semáforo_rojo_codificado',\n",
       " 'Semáforo_naranja',\n",
       " 'Semáforo_naranja_codificado',\n",
       " 'Semáforo_amarillo',\n",
       " 'Semáforo_amarillo_codificado',\n",
       " 'Confianza_institucional',\n",
       " 'Confianza_INE',\n",
       " 'Confianza_INE_codificado',\n",
       " 'Confianza_TRIFE',\n",
       " 'Confianza_TRIFE_codificado',\n",
       " 'Confianza_televisoras',\n",
       " 'Confianza_televisoras_codificado',\n",
       " 'Confianza_periódicos',\n",
       " 'Confianza_periódicos_codificado',\n",
       " 'Confianza_redes_sociales',\n",
       " 'Confianza_redes_codificado',\n",
       " 'Confianza_Cámara_de_Diputados',\n",
       " 'Confianza_Diputados_codificado',\n",
       " 'Confianza_Guardia_nacional',\n",
       " 'Confianza_Guardia_Nacional_codificado',\n",
       " 'Confianza_ejército',\n",
       " 'Confianza_Ejército_codificado',\n",
       " 'Confianza_polícía',\n",
       " 'Confianza_policía_codificado',\n",
       " 'Confianza_jueces',\n",
       " 'Confianza_jueces_codificado',\n",
       " 'Utiliza_internet',\n",
       " 'Utiliza_internet_codificado',\n",
       " 'Utilización_de_medios',\n",
       " 'Utilizó_twitter',\n",
       " 'Utilizó_twitter_codificado',\n",
       " 'Utilizó_Facebook',\n",
       " 'Utilizó_Facebook_codificado',\n",
       " 'Utilizó_Instagram',\n",
       " 'Utilizó_Instagram_codificado',\n",
       " 'Utilizó_Youtube',\n",
       " 'Utilizó_Youtube_codificado',\n",
       " 'Utilizó_Whatsapp',\n",
       " 'Utilizó_Whatsapp_codificado',\n",
       " 'Beneficiario_programa_social',\n",
       " 'Escolaridad',\n",
       " 'Ocupación',\n",
       " 'p16_o',\n",
       " 'Estado_civil',\n",
       " 'Tiene_hijos',\n",
       " 'amai1',\n",
       " 'amai2',\n",
       " 'amai3',\n",
       " 'amai4',\n",
       " 'amai5',\n",
       " 'amai6',\n",
       " 'amai7',\n",
       " 'amai8',\n",
       " 'amaitot',\n",
       " 'amaifinal',\n",
       " 'fecha_termino',\n",
       " 'p_ponde']"
      ]
     },
     "execution_count": 89,
     "metadata": {},
     "output_type": "execute_result"
    }
   ],
   "source": [
    "list(df2.columns)"
   ]
  },
  {
   "cell_type": "code",
   "execution_count": 90,
   "id": "29239de1",
   "metadata": {},
   "outputs": [],
   "source": [
    "df2.insert(124,'Beneficiario_codificado', df2['Beneficiario_programa_social'].apply(si_o_no))\n"
   ]
  },
  {
   "cell_type": "code",
   "execution_count": 91,
   "id": "957ca9ff",
   "metadata": {
    "scrolled": false
   },
   "outputs": [
    {
     "data": {
      "text/plain": [
       "['Secundaria incompleta',\n",
       " 'Secundaria completa',\n",
       " 'Preparatoria completa',\n",
       " 'Posgrado',\n",
       " 'Primaria completa',\n",
       " 'Carrera técnica incompleta',\n",
       " 'Preparatoria incompleta',\n",
       " 'Licenciatura completa',\n",
       " 'Licenciatura incompleta',\n",
       " 'Primaria incompleta',\n",
       " 'Nada',\n",
       " 'Carrera técnica completa',\n",
       " 'No responde']"
      ]
     },
     "execution_count": 91,
     "metadata": {},
     "output_type": "execute_result"
    }
   ],
   "source": [
    "list(df2['Escolaridad'].unique())"
   ]
  },
  {
   "cell_type": "code",
   "execution_count": 92,
   "id": "c14c0242",
   "metadata": {},
   "outputs": [],
   "source": [
    "def escolaridad(var:int)->int:\n",
    "    if var == 'Nada':\n",
    "        return 1\n",
    "    if var == 'Primaria incompleta':\n",
    "        return 2\n",
    "    if var ==  'Primaria completa':\n",
    "        return 3\n",
    "    if var == 'Secundaria incompleta':\n",
    "        return 4\n",
    "    if var == 'Secundaria completa':\n",
    "        return 5\n",
    "    if var == 'Preparatoria incompleta':\n",
    "        return 6\n",
    "    if var == 'Preparatoria completa':\n",
    "        return 7\n",
    "    if var == 'Carrera técnica incompleta':\n",
    "        return 8\n",
    "    if var == 'Carrera técnica completa':\n",
    "        return 9\n",
    "    if var == 'Licenciatura incompleta':\n",
    "        return 10\n",
    "    if var == 'Licenciatura completa': \n",
    "        return 11\n",
    "    if var ==  'Posgrado':\n",
    "        return 12\n",
    "    if var == 'No responde': \n",
    "        return 99"
   ]
  },
  {
   "cell_type": "code",
   "execution_count": 93,
   "id": "a9b8f8d6",
   "metadata": {},
   "outputs": [],
   "source": [
    "df2.insert(126,'Escolaridad_codificado', df2['Escolaridad'].apply(escolaridad))\n"
   ]
  },
  {
   "cell_type": "code",
   "execution_count": 94,
   "id": "1449b183",
   "metadata": {
    "scrolled": true
   },
   "outputs": [
    {
     "data": {
      "text/plain": [
       "['Profesionista independiente',\n",
       " 'Ama de casa',\n",
       " 'Trabajador por cuenta propia',\n",
       " ' No responde',\n",
       " 'Estudiante',\n",
       " 'Trabajador en el gobierno',\n",
       " 'Ama de casa con trabajo de medio tiempo',\n",
       " 'Jubilado o pensionado',\n",
       " 'Comerciante',\n",
       " 'Trabajador en sector privado',\n",
       " 'Otra (especificar)',\n",
       " 'Desempleado',\n",
       " 'Empresario']"
      ]
     },
     "execution_count": 94,
     "metadata": {},
     "output_type": "execute_result"
    }
   ],
   "source": [
    "list(df2['Ocupación'].unique())"
   ]
  },
  {
   "cell_type": "code",
   "execution_count": 95,
   "id": "1d1b1e6c",
   "metadata": {},
   "outputs": [],
   "source": [
    "def ocupacion_encoded(var:int)->int:\n",
    "    if var == 'Trabajador en el gobierno': \n",
    "        return 1\n",
    "    if var == 'Trabajador en sector privado':\n",
    "        return 2\n",
    "    if var == 'Profesionista independiente':\n",
    "        return 3\n",
    "    if var == 'Trabajador por cuenta propia':\n",
    "        return 4\n",
    "    if var == 'Estudiante': \n",
    "        return 5\n",
    "    if var == 'Comerciante': \n",
    "        return 6\n",
    "    if var == 'Empresario': \n",
    "        return 7\n",
    "    if var == 'Ama de casa':\n",
    "        return 8\n",
    "    if var == 'Ama de casa con trabajo de medio tiempo':\n",
    "        return 9\n",
    "    if var == 'Desempleado':\n",
    "        return 10\n",
    "    if var == 'Jubilado o pensionado':\n",
    "        return 11\n",
    "    if var == 'Otra (especificar)':\n",
    "        return 12\n",
    "    if var == ' No responde':\n",
    "        return 99\n",
    "    "
   ]
  },
  {
   "cell_type": "code",
   "execution_count": 96,
   "id": "d48f170e",
   "metadata": {},
   "outputs": [],
   "source": [
    "df2.insert(128,'Ocupación_codificado', df2['Ocupación'].apply(ocupacion_encoded))\n"
   ]
  },
  {
   "cell_type": "code",
   "execution_count": 97,
   "id": "720cad2c",
   "metadata": {
    "scrolled": true
   },
   "outputs": [
    {
     "data": {
      "text/plain": [
       "['fecha_inicio',\n",
       " 'folio',\n",
       " 'punto',\n",
       " 'circunscripcion',\n",
       " 'cve_ent',\n",
       " 'nom_ent',\n",
       " 'dto_fed',\n",
       " 'dto_loc',\n",
       " 'cve_mun',\n",
       " 'nom_mun',\n",
       " 'seccion',\n",
       " 'a',\n",
       " 'b',\n",
       " 'edad_recod',\n",
       " 'c',\n",
       " 'd',\n",
       " 'e',\n",
       " 'Aprobación_institucional',\n",
       " 'Aprobación_presidencial',\n",
       " 'Aprovación_presidencial_codificado',\n",
       " 'Aprobación_gobernador',\n",
       " 'Aprovación_gobernador_codificado',\n",
       " 'Voto_en_2018',\n",
       " 'Voto_en_2018_codificado',\n",
       " 'Otra_opción_2018',\n",
       " 'Opinión_partidos',\n",
       " 'PAN_Percepción',\n",
       " 'PAN_Percepción_codificado',\n",
       " 'PRI_Percepción',\n",
       " 'PRI_Percepción_codificado',\n",
       " 'PRD_Percepción',\n",
       " 'PRD_Percepción_codificado',\n",
       " 'PV_Percepción',\n",
       " 'PV_Percepción_codificado',\n",
       " 'PT_Percepción',\n",
       " 'PT_Percepción_codificado',\n",
       " 'MC_Percepción',\n",
       " 'MC_Percepción_codificado',\n",
       " 'MORENA_Percepción',\n",
       " 'MORENA_Percepción_codificado',\n",
       " 'PES_Percepción',\n",
       " 'PES_Percepción_codificado',\n",
       " 'RSP_Percepción',\n",
       " 'RSP_Percepción_codificado',\n",
       " 'FxM_Percepción',\n",
       " 'FxM_Percepción_codificado',\n",
       " 'Intención_del_voto_diputados',\n",
       " 'Intención_Diputados_codificado',\n",
       " 'Intención_diputados_otra',\n",
       " 'Preferencia_por_partido',\n",
       " 'Preferencia_por_partido_codificado',\n",
       " 'Preferencia_PAN',\n",
       " 'Preferencia_PAN_codificado',\n",
       " 'Preferencia_PRI',\n",
       " 'Preferencia_PRI_codificado',\n",
       " 'Preferencia_PRD',\n",
       " 'Preferencia_PRD_codificado',\n",
       " 'Preferencia_PV',\n",
       " 'Preferencia_PV_codificado',\n",
       " 'Preferencia_PT',\n",
       " 'Preferencia_PT_codificado',\n",
       " 'Preferencia_MC',\n",
       " 'Preferencia_MC_codificado',\n",
       " 'Preferencia_MORENA',\n",
       " 'Preferencia_MORENA_codificado',\n",
       " 'Preferencia_PES',\n",
       " 'Preferencia_PES_codificado',\n",
       " 'Preferencia_RSP',\n",
       " 'Preferencia_RSP_codificado',\n",
       " 'Preferencia_FxM',\n",
       " 'Preferencia_FxM_codificado',\n",
       " 'Partido_no_votaría',\n",
       " 'Partido_no_votaría_codificado',\n",
       " 'No_votaría_otros',\n",
       " 'No_votaría_otros_codificado',\n",
       " 'Identidad_partidista',\n",
       " 'Identidad_partidista_codificado',\n",
       " 'Identidad_partidista_otros',\n",
       " 'Fecha_de_la_elección',\n",
       " 'Fecha_de_la_elección_codificado',\n",
       " 'Nivel_de_participación_codificado',\n",
       " 'Nivel_de_Participación',\n",
       " 'Participación_con_semáforo_COVID',\n",
       " 'Semáforo_rojo',\n",
       " 'Semáforo_rojo_codificado',\n",
       " 'Semáforo_naranja',\n",
       " 'Semáforo_naranja_codificado',\n",
       " 'Semáforo_amarillo',\n",
       " 'Semáforo_amarillo_codificado',\n",
       " 'Confianza_institucional',\n",
       " 'Confianza_INE',\n",
       " 'Confianza_INE_codificado',\n",
       " 'Confianza_TRIFE',\n",
       " 'Confianza_TRIFE_codificado',\n",
       " 'Confianza_televisoras',\n",
       " 'Confianza_televisoras_codificado',\n",
       " 'Confianza_periódicos',\n",
       " 'Confianza_periódicos_codificado',\n",
       " 'Confianza_redes_sociales',\n",
       " 'Confianza_redes_codificado',\n",
       " 'Confianza_Cámara_de_Diputados',\n",
       " 'Confianza_Diputados_codificado',\n",
       " 'Confianza_Guardia_nacional',\n",
       " 'Confianza_Guardia_Nacional_codificado',\n",
       " 'Confianza_ejército',\n",
       " 'Confianza_Ejército_codificado',\n",
       " 'Confianza_polícía',\n",
       " 'Confianza_policía_codificado',\n",
       " 'Confianza_jueces',\n",
       " 'Confianza_jueces_codificado',\n",
       " 'Utiliza_internet',\n",
       " 'Utiliza_internet_codificado',\n",
       " 'Utilización_de_medios',\n",
       " 'Utilizó_twitter',\n",
       " 'Utilizó_twitter_codificado',\n",
       " 'Utilizó_Facebook',\n",
       " 'Utilizó_Facebook_codificado',\n",
       " 'Utilizó_Instagram',\n",
       " 'Utilizó_Instagram_codificado',\n",
       " 'Utilizó_Youtube',\n",
       " 'Utilizó_Youtube_codificado',\n",
       " 'Utilizó_Whatsapp',\n",
       " 'Utilizó_Whatsapp_codificado',\n",
       " 'Beneficiario_programa_social',\n",
       " 'Beneficiario_codificado',\n",
       " 'Escolaridad',\n",
       " 'Escolaridad_codificado',\n",
       " 'Ocupación',\n",
       " 'Ocupación_codificado',\n",
       " 'p16_o',\n",
       " 'Estado_civil',\n",
       " 'Tiene_hijos',\n",
       " 'amai1',\n",
       " 'amai2',\n",
       " 'amai3',\n",
       " 'amai4',\n",
       " 'amai5',\n",
       " 'amai6',\n",
       " 'amai7',\n",
       " 'amai8',\n",
       " 'amaitot',\n",
       " 'amaifinal',\n",
       " 'fecha_termino',\n",
       " 'p_ponde']"
      ]
     },
     "execution_count": 97,
     "metadata": {},
     "output_type": "execute_result"
    }
   ],
   "source": [
    "list(df2.columns)"
   ]
  },
  {
   "cell_type": "code",
   "execution_count": 98,
   "id": "5582c74d",
   "metadata": {},
   "outputs": [],
   "source": [
    "del(df2['p16_o'])"
   ]
  },
  {
   "cell_type": "code",
   "execution_count": 99,
   "id": "c26aa4b7",
   "metadata": {},
   "outputs": [
    {
     "data": {
      "text/plain": [
       "['Soltera/o', 'Viuda/o', 'Casada/o', 'Unión Libre', 'Divorciada/o', 'No responde']\n",
       "Categories (6, object): ['Casada/o', 'Divorciada/o', 'No responde', 'Soltera/o', 'Unión Libre', 'Viuda/o']"
      ]
     },
     "execution_count": 99,
     "metadata": {},
     "output_type": "execute_result"
    }
   ],
   "source": [
    "df2['Estado_civil'].unique()"
   ]
  },
  {
   "cell_type": "code",
   "execution_count": 100,
   "id": "ef6f3722",
   "metadata": {},
   "outputs": [],
   "source": [
    "def Estado_civil_encoded(var:int)->int:\n",
    "    if var == 'Soltera/o': \n",
    "        return 1\n",
    "    if var == 'Casada/o':\n",
    "        return 2\n",
    "    if var == 'Unión Libre': \n",
    "        return 3\n",
    "    if var == 'Divorciada/o':\n",
    "        return 4\n",
    "    if var == 'Viuda/o': \n",
    "        return 5\n",
    "    if var == 'No responde':\n",
    "        return 99\n",
    "    \n",
    "    "
   ]
  },
  {
   "cell_type": "code",
   "execution_count": 101,
   "id": "f21e4f89",
   "metadata": {},
   "outputs": [],
   "source": [
    "df2.insert(130,'Estado_civil_codificado', df2['Estado_civil'].apply(Estado_civil_encoded))\n"
   ]
  },
  {
   "cell_type": "code",
   "execution_count": 102,
   "id": "a948b8ef",
   "metadata": {
    "scrolled": false
   },
   "outputs": [
    {
     "data": {
      "text/plain": [
       "['fecha_inicio',\n",
       " 'folio',\n",
       " 'punto',\n",
       " 'circunscripcion',\n",
       " 'cve_ent',\n",
       " 'nom_ent',\n",
       " 'dto_fed',\n",
       " 'dto_loc',\n",
       " 'cve_mun',\n",
       " 'nom_mun',\n",
       " 'seccion',\n",
       " 'a',\n",
       " 'b',\n",
       " 'edad_recod',\n",
       " 'c',\n",
       " 'd',\n",
       " 'e',\n",
       " 'Aprobación_institucional',\n",
       " 'Aprobación_presidencial',\n",
       " 'Aprovación_presidencial_codificado',\n",
       " 'Aprobación_gobernador',\n",
       " 'Aprovación_gobernador_codificado',\n",
       " 'Voto_en_2018',\n",
       " 'Voto_en_2018_codificado',\n",
       " 'Otra_opción_2018',\n",
       " 'Opinión_partidos',\n",
       " 'PAN_Percepción',\n",
       " 'PAN_Percepción_codificado',\n",
       " 'PRI_Percepción',\n",
       " 'PRI_Percepción_codificado',\n",
       " 'PRD_Percepción',\n",
       " 'PRD_Percepción_codificado',\n",
       " 'PV_Percepción',\n",
       " 'PV_Percepción_codificado',\n",
       " 'PT_Percepción',\n",
       " 'PT_Percepción_codificado',\n",
       " 'MC_Percepción',\n",
       " 'MC_Percepción_codificado',\n",
       " 'MORENA_Percepción',\n",
       " 'MORENA_Percepción_codificado',\n",
       " 'PES_Percepción',\n",
       " 'PES_Percepción_codificado',\n",
       " 'RSP_Percepción',\n",
       " 'RSP_Percepción_codificado',\n",
       " 'FxM_Percepción',\n",
       " 'FxM_Percepción_codificado',\n",
       " 'Intención_del_voto_diputados',\n",
       " 'Intención_Diputados_codificado',\n",
       " 'Intención_diputados_otra',\n",
       " 'Preferencia_por_partido',\n",
       " 'Preferencia_por_partido_codificado',\n",
       " 'Preferencia_PAN',\n",
       " 'Preferencia_PAN_codificado',\n",
       " 'Preferencia_PRI',\n",
       " 'Preferencia_PRI_codificado',\n",
       " 'Preferencia_PRD',\n",
       " 'Preferencia_PRD_codificado',\n",
       " 'Preferencia_PV',\n",
       " 'Preferencia_PV_codificado',\n",
       " 'Preferencia_PT',\n",
       " 'Preferencia_PT_codificado',\n",
       " 'Preferencia_MC',\n",
       " 'Preferencia_MC_codificado',\n",
       " 'Preferencia_MORENA',\n",
       " 'Preferencia_MORENA_codificado',\n",
       " 'Preferencia_PES',\n",
       " 'Preferencia_PES_codificado',\n",
       " 'Preferencia_RSP',\n",
       " 'Preferencia_RSP_codificado',\n",
       " 'Preferencia_FxM',\n",
       " 'Preferencia_FxM_codificado',\n",
       " 'Partido_no_votaría',\n",
       " 'Partido_no_votaría_codificado',\n",
       " 'No_votaría_otros',\n",
       " 'No_votaría_otros_codificado',\n",
       " 'Identidad_partidista',\n",
       " 'Identidad_partidista_codificado',\n",
       " 'Identidad_partidista_otros',\n",
       " 'Fecha_de_la_elección',\n",
       " 'Fecha_de_la_elección_codificado',\n",
       " 'Nivel_de_participación_codificado',\n",
       " 'Nivel_de_Participación',\n",
       " 'Participación_con_semáforo_COVID',\n",
       " 'Semáforo_rojo',\n",
       " 'Semáforo_rojo_codificado',\n",
       " 'Semáforo_naranja',\n",
       " 'Semáforo_naranja_codificado',\n",
       " 'Semáforo_amarillo',\n",
       " 'Semáforo_amarillo_codificado',\n",
       " 'Confianza_institucional',\n",
       " 'Confianza_INE',\n",
       " 'Confianza_INE_codificado',\n",
       " 'Confianza_TRIFE',\n",
       " 'Confianza_TRIFE_codificado',\n",
       " 'Confianza_televisoras',\n",
       " 'Confianza_televisoras_codificado',\n",
       " 'Confianza_periódicos',\n",
       " 'Confianza_periódicos_codificado',\n",
       " 'Confianza_redes_sociales',\n",
       " 'Confianza_redes_codificado',\n",
       " 'Confianza_Cámara_de_Diputados',\n",
       " 'Confianza_Diputados_codificado',\n",
       " 'Confianza_Guardia_nacional',\n",
       " 'Confianza_Guardia_Nacional_codificado',\n",
       " 'Confianza_ejército',\n",
       " 'Confianza_Ejército_codificado',\n",
       " 'Confianza_polícía',\n",
       " 'Confianza_policía_codificado',\n",
       " 'Confianza_jueces',\n",
       " 'Confianza_jueces_codificado',\n",
       " 'Utiliza_internet',\n",
       " 'Utiliza_internet_codificado',\n",
       " 'Utilización_de_medios',\n",
       " 'Utilizó_twitter',\n",
       " 'Utilizó_twitter_codificado',\n",
       " 'Utilizó_Facebook',\n",
       " 'Utilizó_Facebook_codificado',\n",
       " 'Utilizó_Instagram',\n",
       " 'Utilizó_Instagram_codificado',\n",
       " 'Utilizó_Youtube',\n",
       " 'Utilizó_Youtube_codificado',\n",
       " 'Utilizó_Whatsapp',\n",
       " 'Utilizó_Whatsapp_codificado',\n",
       " 'Beneficiario_programa_social',\n",
       " 'Beneficiario_codificado',\n",
       " 'Escolaridad',\n",
       " 'Escolaridad_codificado',\n",
       " 'Ocupación',\n",
       " 'Ocupación_codificado',\n",
       " 'Estado_civil',\n",
       " 'Estado_civil_codificado',\n",
       " 'Tiene_hijos',\n",
       " 'amai1',\n",
       " 'amai2',\n",
       " 'amai3',\n",
       " 'amai4',\n",
       " 'amai5',\n",
       " 'amai6',\n",
       " 'amai7',\n",
       " 'amai8',\n",
       " 'amaitot',\n",
       " 'amaifinal',\n",
       " 'fecha_termino',\n",
       " 'p_ponde']"
      ]
     },
     "execution_count": 102,
     "metadata": {},
     "output_type": "execute_result"
    }
   ],
   "source": [
    "list(df2.columns)"
   ]
  },
  {
   "cell_type": "code",
   "execution_count": 103,
   "id": "cd8ca2c9",
   "metadata": {},
   "outputs": [],
   "source": [
    "df2.insert(132,'Tiene_hijos_codificado', df2['Tiene_hijos'].apply(si_o_no))\n"
   ]
  },
  {
   "cell_type": "code",
   "execution_count": 104,
   "id": "15af9a35",
   "metadata": {},
   "outputs": [],
   "source": [
    "df2.rename(columns={'amai1': 'AMAI-Cuartos', 'amai2':'AMAI-Baños_completos', 'amai3':'AMAI-Regadera', \n",
    "                   'amai4': 'AMAI-Focos','amai5': 'AMAI-Piso', 'amai6':'AMAI-Automóviles', 'amai7':'AMAI-Estufa',\n",
    "                   'amai8':'Ecolaridad_jefe_de_familia', 'amaitot':'AMAI_Total', 'amaifinal': 'AMAI-FINAL'}, inplace=True)"
   ]
  },
  {
   "cell_type": "code",
   "execution_count": 105,
   "id": "cbd79cf4",
   "metadata": {},
   "outputs": [
    {
     "data": {
      "text/plain": [
       "['fecha_inicio',\n",
       " 'folio',\n",
       " 'punto',\n",
       " 'circunscripcion',\n",
       " 'cve_ent',\n",
       " 'nom_ent',\n",
       " 'dto_fed',\n",
       " 'dto_loc',\n",
       " 'cve_mun',\n",
       " 'nom_mun',\n",
       " 'seccion',\n",
       " 'a',\n",
       " 'b',\n",
       " 'edad_recod',\n",
       " 'c',\n",
       " 'd',\n",
       " 'e',\n",
       " 'Aprobación_institucional',\n",
       " 'Aprobación_presidencial',\n",
       " 'Aprovación_presidencial_codificado',\n",
       " 'Aprobación_gobernador',\n",
       " 'Aprovación_gobernador_codificado',\n",
       " 'Voto_en_2018',\n",
       " 'Voto_en_2018_codificado',\n",
       " 'Otra_opción_2018',\n",
       " 'Opinión_partidos',\n",
       " 'PAN_Percepción',\n",
       " 'PAN_Percepción_codificado',\n",
       " 'PRI_Percepción',\n",
       " 'PRI_Percepción_codificado',\n",
       " 'PRD_Percepción',\n",
       " 'PRD_Percepción_codificado',\n",
       " 'PV_Percepción',\n",
       " 'PV_Percepción_codificado',\n",
       " 'PT_Percepción',\n",
       " 'PT_Percepción_codificado',\n",
       " 'MC_Percepción',\n",
       " 'MC_Percepción_codificado',\n",
       " 'MORENA_Percepción',\n",
       " 'MORENA_Percepción_codificado',\n",
       " 'PES_Percepción',\n",
       " 'PES_Percepción_codificado',\n",
       " 'RSP_Percepción',\n",
       " 'RSP_Percepción_codificado',\n",
       " 'FxM_Percepción',\n",
       " 'FxM_Percepción_codificado',\n",
       " 'Intención_del_voto_diputados',\n",
       " 'Intención_Diputados_codificado',\n",
       " 'Intención_diputados_otra',\n",
       " 'Preferencia_por_partido',\n",
       " 'Preferencia_por_partido_codificado',\n",
       " 'Preferencia_PAN',\n",
       " 'Preferencia_PAN_codificado',\n",
       " 'Preferencia_PRI',\n",
       " 'Preferencia_PRI_codificado',\n",
       " 'Preferencia_PRD',\n",
       " 'Preferencia_PRD_codificado',\n",
       " 'Preferencia_PV',\n",
       " 'Preferencia_PV_codificado',\n",
       " 'Preferencia_PT',\n",
       " 'Preferencia_PT_codificado',\n",
       " 'Preferencia_MC',\n",
       " 'Preferencia_MC_codificado',\n",
       " 'Preferencia_MORENA',\n",
       " 'Preferencia_MORENA_codificado',\n",
       " 'Preferencia_PES',\n",
       " 'Preferencia_PES_codificado',\n",
       " 'Preferencia_RSP',\n",
       " 'Preferencia_RSP_codificado',\n",
       " 'Preferencia_FxM',\n",
       " 'Preferencia_FxM_codificado',\n",
       " 'Partido_no_votaría',\n",
       " 'Partido_no_votaría_codificado',\n",
       " 'No_votaría_otros',\n",
       " 'No_votaría_otros_codificado',\n",
       " 'Identidad_partidista',\n",
       " 'Identidad_partidista_codificado',\n",
       " 'Identidad_partidista_otros',\n",
       " 'Fecha_de_la_elección',\n",
       " 'Fecha_de_la_elección_codificado',\n",
       " 'Nivel_de_participación_codificado',\n",
       " 'Nivel_de_Participación',\n",
       " 'Participación_con_semáforo_COVID',\n",
       " 'Semáforo_rojo',\n",
       " 'Semáforo_rojo_codificado',\n",
       " 'Semáforo_naranja',\n",
       " 'Semáforo_naranja_codificado',\n",
       " 'Semáforo_amarillo',\n",
       " 'Semáforo_amarillo_codificado',\n",
       " 'Confianza_institucional',\n",
       " 'Confianza_INE',\n",
       " 'Confianza_INE_codificado',\n",
       " 'Confianza_TRIFE',\n",
       " 'Confianza_TRIFE_codificado',\n",
       " 'Confianza_televisoras',\n",
       " 'Confianza_televisoras_codificado',\n",
       " 'Confianza_periódicos',\n",
       " 'Confianza_periódicos_codificado',\n",
       " 'Confianza_redes_sociales',\n",
       " 'Confianza_redes_codificado',\n",
       " 'Confianza_Cámara_de_Diputados',\n",
       " 'Confianza_Diputados_codificado',\n",
       " 'Confianza_Guardia_nacional',\n",
       " 'Confianza_Guardia_Nacional_codificado',\n",
       " 'Confianza_ejército',\n",
       " 'Confianza_Ejército_codificado',\n",
       " 'Confianza_polícía',\n",
       " 'Confianza_policía_codificado',\n",
       " 'Confianza_jueces',\n",
       " 'Confianza_jueces_codificado',\n",
       " 'Utiliza_internet',\n",
       " 'Utiliza_internet_codificado',\n",
       " 'Utilización_de_medios',\n",
       " 'Utilizó_twitter',\n",
       " 'Utilizó_twitter_codificado',\n",
       " 'Utilizó_Facebook',\n",
       " 'Utilizó_Facebook_codificado',\n",
       " 'Utilizó_Instagram',\n",
       " 'Utilizó_Instagram_codificado',\n",
       " 'Utilizó_Youtube',\n",
       " 'Utilizó_Youtube_codificado',\n",
       " 'Utilizó_Whatsapp',\n",
       " 'Utilizó_Whatsapp_codificado',\n",
       " 'Beneficiario_programa_social',\n",
       " 'Beneficiario_codificado',\n",
       " 'Escolaridad',\n",
       " 'Escolaridad_codificado',\n",
       " 'Ocupación',\n",
       " 'Ocupación_codificado',\n",
       " 'Estado_civil',\n",
       " 'Estado_civil_codificado',\n",
       " 'Tiene_hijos',\n",
       " 'Tiene_hijos_codificado',\n",
       " 'AMAI-Cuartos',\n",
       " 'AMAI-Baños_completos',\n",
       " 'AMAI-Regadera',\n",
       " 'AMAI-Focos',\n",
       " 'AMAI-Piso',\n",
       " 'AMAI-Automóviles',\n",
       " 'AMAI-Estufa',\n",
       " 'Ecolaridad_jefe_de_familia',\n",
       " 'AMAI_Total',\n",
       " 'AMAI-FINAL',\n",
       " 'fecha_termino',\n",
       " 'p_ponde']"
      ]
     },
     "execution_count": 105,
     "metadata": {},
     "output_type": "execute_result"
    }
   ],
   "source": [
    "list(df2.columns)"
   ]
  },
  {
   "cell_type": "code",
   "execution_count": 106,
   "id": "829ef8d0",
   "metadata": {},
   "outputs": [],
   "source": [
    "def cuartos(var:int)->int:\n",
    "    if var == 1 or var == 2 or var == 3 or var == 4:\n",
    "        return 0\n",
    "    if var == 5 or var == 6:\n",
    "        return 8\n",
    "    if var >= 7:\n",
    "        return 14"
   ]
  },
  {
   "cell_type": "markdown",
   "id": "cc71ef65",
   "metadata": {
    "scrolled": true
   },
   "source": [
    "## Se obtiene la nueva base de datos limpia "
   ]
  },
  {
   "cell_type": "code",
   "execution_count": 107,
   "id": "e8765931",
   "metadata": {},
   "outputs": [],
   "source": [
    "df2.to_excel(r'C:/Users/Juan Carlos/Desktop/apuntes/Elecciones5.xlsx', sheet_name='Tabla1', index = False)"
   ]
  }
 ],
 "metadata": {
  "kernelspec": {
   "display_name": "Python 3 (ipykernel)",
   "language": "python",
   "name": "python3"
  },
  "language_info": {
   "codemirror_mode": {
    "name": "ipython",
    "version": 3
   },
   "file_extension": ".py",
   "mimetype": "text/x-python",
   "name": "python",
   "nbconvert_exporter": "python",
   "pygments_lexer": "ipython3",
   "version": "3.9.7"
  }
 },
 "nbformat": 4,
 "nbformat_minor": 5
}
